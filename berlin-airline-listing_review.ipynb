{
    "nbformat_minor": 1, 
    "cells": [
        {
            "source": "import numpy as np\nimport re\nimport matplotlib.pyplot as plt", 
            "cell_type": "code", 
            "metadata": {}, 
            "outputs": [], 
            "execution_count": 166
        }, 
        {
            "source": "\nimport types\nimport pandas as pd\nfrom botocore.client import Config\nimport ibm_boto3\n\ndef __iter__(self): return 0\n\n# @hidden_cell\n# The following code accesses a file in your IBM Cloud Object Storage. It includes your credentials.\n# You might want to remove those credentials before you share your notebook.\nclient_6213e9bdbd6a4109965fd0f1aa556bc8 = ibm_boto3.client(service_name='s3',\n    ibm_api_key_id='YmI0ZPBnnw3Pd_s88Z4qFFTPELcxf571vivRhgH2hJ0a',\n    ibm_auth_endpoint=\"https://iam.bluemix.net/oidc/token\",\n    config=Config(signature_version='oauth'),\n    endpoint_url='https://s3-api.us-geo.objectstorage.service.networklayer.com')\n\nbody = client_6213e9bdbd6a4109965fd0f1aa556bc8.get_object(Bucket='datascience-donotdelete-pr-t25cfoypokr52o',Key='listings_summary.csv')['Body']\n# add missing __iter__ method, so pandas accepts body as file-like object\nif not hasattr(body, \"__iter__\"): body.__iter__ = types.MethodType( __iter__, body )\n\ndf_data_2 = pd.read_csv(body)\ndf_data_2.head()\n\n", 
            "cell_type": "code", 
            "metadata": {}, 
            "outputs": [
                {
                    "output_type": "execute_result", 
                    "data": {
                        "text/html": "<div>\n<style scoped>\n    .dataframe tbody tr th:only-of-type {\n        vertical-align: middle;\n    }\n\n    .dataframe tbody tr th {\n        vertical-align: top;\n    }\n\n    .dataframe thead th {\n        text-align: right;\n    }\n</style>\n<table border=\"1\" class=\"dataframe\">\n  <thead>\n    <tr style=\"text-align: right;\">\n      <th></th>\n      <th>id</th>\n      <th>listing_url</th>\n      <th>scrape_id</th>\n      <th>last_scraped</th>\n      <th>name</th>\n      <th>summary</th>\n      <th>space</th>\n      <th>description</th>\n      <th>experiences_offered</th>\n      <th>neighborhood_overview</th>\n      <th>...</th>\n      <th>requires_license</th>\n      <th>license</th>\n      <th>jurisdiction_names</th>\n      <th>instant_bookable</th>\n      <th>is_business_travel_ready</th>\n      <th>cancellation_policy</th>\n      <th>require_guest_profile_picture</th>\n      <th>require_guest_phone_verification</th>\n      <th>calculated_host_listings_count</th>\n      <th>reviews_per_month</th>\n    </tr>\n  </thead>\n  <tbody>\n    <tr>\n      <th>0</th>\n      <td>2015</td>\n      <td>https://www.airbnb.com/rooms/2015</td>\n      <td>20181107122246</td>\n      <td>2018-11-07</td>\n      <td>Berlin-Mitte Value! Quiet courtyard/very central</td>\n      <td>Great location!  30 of 75 sq meters. This wood...</td>\n      <td>A+++ location! This \u201eEinliegerwohnung\u201c is an e...</td>\n      <td>Great location!  30 of 75 sq meters. This wood...</td>\n      <td>none</td>\n      <td>It is located in the former East Berlin area o...</td>\n      <td>...</td>\n      <td>t</td>\n      <td>NaN</td>\n      <td>NaN</td>\n      <td>f</td>\n      <td>f</td>\n      <td>strict_14_with_grace_period</td>\n      <td>f</td>\n      <td>f</td>\n      <td>4</td>\n      <td>3.76</td>\n    </tr>\n    <tr>\n      <th>1</th>\n      <td>2695</td>\n      <td>https://www.airbnb.com/rooms/2695</td>\n      <td>20181107122246</td>\n      <td>2018-11-07</td>\n      <td>Prenzlauer Berg close to Mauerpark</td>\n      <td>NaN</td>\n      <td>In the summertime we are spending most of our ...</td>\n      <td>In the summertime we are spending most of our ...</td>\n      <td>none</td>\n      <td>NaN</td>\n      <td>...</td>\n      <td>t</td>\n      <td>NaN</td>\n      <td>NaN</td>\n      <td>f</td>\n      <td>f</td>\n      <td>flexible</td>\n      <td>f</td>\n      <td>f</td>\n      <td>1</td>\n      <td>1.42</td>\n    </tr>\n    <tr>\n      <th>2</th>\n      <td>3176</td>\n      <td>https://www.airbnb.com/rooms/3176</td>\n      <td>20181107122246</td>\n      <td>2018-11-07</td>\n      <td>Fabulous Flat in great Location</td>\n      <td>This beautiful first floor apartment  is situa...</td>\n      <td>1st floor (68m2) apartment on Kollwitzplatz/ P...</td>\n      <td>This beautiful first floor apartment  is situa...</td>\n      <td>none</td>\n      <td>The neighbourhood is famous for its variety of...</td>\n      <td>...</td>\n      <td>t</td>\n      <td>NaN</td>\n      <td>NaN</td>\n      <td>t</td>\n      <td>f</td>\n      <td>strict_14_with_grace_period</td>\n      <td>f</td>\n      <td>f</td>\n      <td>1</td>\n      <td>1.25</td>\n    </tr>\n    <tr>\n      <th>3</th>\n      <td>3309</td>\n      <td>https://www.airbnb.com/rooms/3309</td>\n      <td>20181107122246</td>\n      <td>2018-11-07</td>\n      <td>BerlinSpot Sch\u00f6neberg near KaDeWe</td>\n      <td>First of all: I prefer short-notice bookings. ...</td>\n      <td>Your room is really big and has 26 sqm, is ver...</td>\n      <td>First of all: I prefer short-notice bookings. ...</td>\n      <td>none</td>\n      <td>My flat is in the middle of West-Berlin, direc...</td>\n      <td>...</td>\n      <td>t</td>\n      <td>NaN</td>\n      <td>NaN</td>\n      <td>f</td>\n      <td>f</td>\n      <td>strict_14_with_grace_period</td>\n      <td>f</td>\n      <td>f</td>\n      <td>1</td>\n      <td>0.39</td>\n    </tr>\n    <tr>\n      <th>4</th>\n      <td>7071</td>\n      <td>https://www.airbnb.com/rooms/7071</td>\n      <td>20181107122246</td>\n      <td>2018-11-07</td>\n      <td>BrightRoom with sunny greenview!</td>\n      <td>Cozy and large room in the beautiful district ...</td>\n      <td>The BrightRoom is an approx. 20 sqm (215ft\u00b2), ...</td>\n      <td>Cozy and large room in the beautiful district ...</td>\n      <td>none</td>\n      <td>Great neighborhood with plenty of Caf\u00e9s, Baker...</td>\n      <td>...</td>\n      <td>t</td>\n      <td>NaN</td>\n      <td>NaN</td>\n      <td>f</td>\n      <td>f</td>\n      <td>moderate</td>\n      <td>f</td>\n      <td>f</td>\n      <td>1</td>\n      <td>1.75</td>\n    </tr>\n  </tbody>\n</table>\n<p>5 rows \u00d7 96 columns</p>\n</div>", 
                        "text/plain": "     id                        listing_url       scrape_id last_scraped  \\\n0  2015  https://www.airbnb.com/rooms/2015  20181107122246   2018-11-07   \n1  2695  https://www.airbnb.com/rooms/2695  20181107122246   2018-11-07   \n2  3176  https://www.airbnb.com/rooms/3176  20181107122246   2018-11-07   \n3  3309  https://www.airbnb.com/rooms/3309  20181107122246   2018-11-07   \n4  7071  https://www.airbnb.com/rooms/7071  20181107122246   2018-11-07   \n\n                                               name  \\\n0  Berlin-Mitte Value! Quiet courtyard/very central   \n1                Prenzlauer Berg close to Mauerpark   \n2                   Fabulous Flat in great Location   \n3                 BerlinSpot Sch\u00f6neberg near KaDeWe   \n4                  BrightRoom with sunny greenview!   \n\n                                             summary  \\\n0  Great location!  30 of 75 sq meters. This wood...   \n1                                                NaN   \n2  This beautiful first floor apartment  is situa...   \n3  First of all: I prefer short-notice bookings. ...   \n4  Cozy and large room in the beautiful district ...   \n\n                                               space  \\\n0  A+++ location! This \u201eEinliegerwohnung\u201c is an e...   \n1  In the summertime we are spending most of our ...   \n2  1st floor (68m2) apartment on Kollwitzplatz/ P...   \n3  Your room is really big and has 26 sqm, is ver...   \n4  The BrightRoom is an approx. 20 sqm (215ft\u00b2), ...   \n\n                                         description experiences_offered  \\\n0  Great location!  30 of 75 sq meters. This wood...                none   \n1  In the summertime we are spending most of our ...                none   \n2  This beautiful first floor apartment  is situa...                none   \n3  First of all: I prefer short-notice bookings. ...                none   \n4  Cozy and large room in the beautiful district ...                none   \n\n                               neighborhood_overview  ... requires_license  \\\n0  It is located in the former East Berlin area o...  ...                t   \n1                                                NaN  ...                t   \n2  The neighbourhood is famous for its variety of...  ...                t   \n3  My flat is in the middle of West-Berlin, direc...  ...                t   \n4  Great neighborhood with plenty of Caf\u00e9s, Baker...  ...                t   \n\n  license jurisdiction_names instant_bookable is_business_travel_ready  \\\n0     NaN                NaN                f                        f   \n1     NaN                NaN                f                        f   \n2     NaN                NaN                t                        f   \n3     NaN                NaN                f                        f   \n4     NaN                NaN                f                        f   \n\n           cancellation_policy  require_guest_profile_picture  \\\n0  strict_14_with_grace_period                              f   \n1                     flexible                              f   \n2  strict_14_with_grace_period                              f   \n3  strict_14_with_grace_period                              f   \n4                     moderate                              f   \n\n  require_guest_phone_verification  calculated_host_listings_count  \\\n0                                f                               4   \n1                                f                               1   \n2                                f                               1   \n3                                f                               1   \n4                                f                               1   \n\n   reviews_per_month  \n0               3.76  \n1               1.42  \n2               1.25  \n3               0.39  \n4               1.75  \n\n[5 rows x 96 columns]"
                    }, 
                    "execution_count": 125, 
                    "metadata": {}
                }
            ], 
            "execution_count": 125
        }, 
        {
            "source": "df=df_data_2.copy()", 
            "cell_type": "code", 
            "metadata": {}, 
            "outputs": [], 
            "execution_count": 126
        }, 
        {
            "source": "df.shape", 
            "cell_type": "code", 
            "metadata": {}, 
            "outputs": [
                {
                    "output_type": "execute_result", 
                    "data": {
                        "text/plain": "(22552, 96)"
                    }, 
                    "execution_count": 127, 
                    "metadata": {}
                }
            ], 
            "execution_count": 127
        }, 
        {
            "source": "format(df.duplicated().sum()) # Check wether duplicate entries are their or not. here 0 represent no duplkicate data is their.", 
            "cell_type": "code", 
            "metadata": {}, 
            "outputs": [
                {
                    "output_type": "execute_result", 
                    "data": {
                        "text/plain": "'0'"
                    }, 
                    "execution_count": 128, 
                    "metadata": {}
                }
            ], 
            "execution_count": 128
        }, 
        {
            "source": "df.columns", 
            "cell_type": "code", 
            "metadata": {}, 
            "outputs": [
                {
                    "output_type": "execute_result", 
                    "data": {
                        "text/plain": "Index(['id', 'listing_url', 'scrape_id', 'last_scraped', 'name', 'summary',\n       'space', 'description', 'experiences_offered', 'neighborhood_overview',\n       'notes', 'transit', 'access', 'interaction', 'house_rules',\n       'thumbnail_url', 'medium_url', 'picture_url', 'xl_picture_url',\n       'host_id', 'host_url', 'host_name', 'host_since', 'host_location',\n       'host_about', 'host_response_time', 'host_response_rate',\n       'host_acceptance_rate', 'host_is_superhost', 'host_thumbnail_url',\n       'host_picture_url', 'host_neighbourhood', 'host_listings_count',\n       'host_total_listings_count', 'host_verifications',\n       'host_has_profile_pic', 'host_identity_verified', 'street',\n       'neighbourhood', 'neighbourhood_cleansed',\n       'neighbourhood_group_cleansed', 'city', 'state', 'zipcode', 'market',\n       'smart_location', 'country_code', 'country', 'latitude', 'longitude',\n       'is_location_exact', 'property_type', 'room_type', 'accommodates',\n       'bathrooms', 'bedrooms', 'beds', 'bed_type', 'amenities', 'square_feet',\n       'price', 'weekly_price', 'monthly_price', 'security_deposit',\n       'cleaning_fee', 'guests_included', 'extra_people', 'minimum_nights',\n       'maximum_nights', 'calendar_updated', 'has_availability',\n       'availability_30', 'availability_60', 'availability_90',\n       'availability_365', 'calendar_last_scraped', 'number_of_reviews',\n       'first_review', 'last_review', 'review_scores_rating',\n       'review_scores_accuracy', 'review_scores_cleanliness',\n       'review_scores_checkin', 'review_scores_communication',\n       'review_scores_location', 'review_scores_value', 'requires_license',\n       'license', 'jurisdiction_names', 'instant_bookable',\n       'is_business_travel_ready', 'cancellation_policy',\n       'require_guest_profile_picture', 'require_guest_phone_verification',\n       'calculated_host_listings_count', 'reviews_per_month'],\n      dtype='object')"
                    }, 
                    "execution_count": 129, 
                    "metadata": {}
                }
            ], 
            "execution_count": 129
        }, 
        {
            "source": "columns=['id','space','description','neighborhood_overview','property_type','room_type','accommodates','bathrooms',\n         'bedrooms','beds','bed_type','amenities','square_feet','price','security_deposit','cleaning_fee','extra_people',\n         'minimum_nights','review_scores_rating','instant_bookable','cancellation_policy']", 
            "cell_type": "code", 
            "metadata": {}, 
            "outputs": [], 
            "execution_count": 130
        }, 
        {
            "source": "temp_data=df[columns].set_index('id')", 
            "cell_type": "code", 
            "metadata": {}, 
            "outputs": [], 
            "execution_count": 131
        }, 
        {
            "source": "temp_data.head()", 
            "cell_type": "code", 
            "metadata": {}, 
            "outputs": [
                {
                    "output_type": "execute_result", 
                    "data": {
                        "text/html": "<div>\n<style scoped>\n    .dataframe tbody tr th:only-of-type {\n        vertical-align: middle;\n    }\n\n    .dataframe tbody tr th {\n        vertical-align: top;\n    }\n\n    .dataframe thead th {\n        text-align: right;\n    }\n</style>\n<table border=\"1\" class=\"dataframe\">\n  <thead>\n    <tr style=\"text-align: right;\">\n      <th></th>\n      <th>space</th>\n      <th>description</th>\n      <th>neighborhood_overview</th>\n      <th>property_type</th>\n      <th>room_type</th>\n      <th>accommodates</th>\n      <th>bathrooms</th>\n      <th>bedrooms</th>\n      <th>beds</th>\n      <th>bed_type</th>\n      <th>amenities</th>\n      <th>square_feet</th>\n      <th>price</th>\n      <th>security_deposit</th>\n      <th>cleaning_fee</th>\n      <th>extra_people</th>\n      <th>minimum_nights</th>\n      <th>review_scores_rating</th>\n      <th>instant_bookable</th>\n      <th>cancellation_policy</th>\n    </tr>\n    <tr>\n      <th>id</th>\n      <th></th>\n      <th></th>\n      <th></th>\n      <th></th>\n      <th></th>\n      <th></th>\n      <th></th>\n      <th></th>\n      <th></th>\n      <th></th>\n      <th></th>\n      <th></th>\n      <th></th>\n      <th></th>\n      <th></th>\n      <th></th>\n      <th></th>\n      <th></th>\n      <th></th>\n      <th></th>\n    </tr>\n  </thead>\n  <tbody>\n    <tr>\n      <th>2015</th>\n      <td>A+++ location! This \u201eEinliegerwohnung\u201c is an e...</td>\n      <td>Great location!  30 of 75 sq meters. This wood...</td>\n      <td>It is located in the former East Berlin area o...</td>\n      <td>Guesthouse</td>\n      <td>Entire home/apt</td>\n      <td>3</td>\n      <td>1.0</td>\n      <td>1.0</td>\n      <td>2.0</td>\n      <td>Real Bed</td>\n      <td>{TV,\"Cable TV\",Wifi,Kitchen,Gym,Heating,\"Famil...</td>\n      <td>NaN</td>\n      <td>$60.00</td>\n      <td>$200.00</td>\n      <td>$30.00</td>\n      <td>$28.00</td>\n      <td>4</td>\n      <td>93.0</td>\n      <td>f</td>\n      <td>strict_14_with_grace_period</td>\n    </tr>\n    <tr>\n      <th>2695</th>\n      <td>In the summertime we are spending most of our ...</td>\n      <td>In the summertime we are spending most of our ...</td>\n      <td>NaN</td>\n      <td>Apartment</td>\n      <td>Private room</td>\n      <td>2</td>\n      <td>1.0</td>\n      <td>1.0</td>\n      <td>1.0</td>\n      <td>Real Bed</td>\n      <td>{Wifi,Kitchen,Elevator,Heating,Washer,Essentia...</td>\n      <td>NaN</td>\n      <td>$17.00</td>\n      <td>$0.00</td>\n      <td>$0.00</td>\n      <td>$0.00</td>\n      <td>2</td>\n      <td>100.0</td>\n      <td>f</td>\n      <td>flexible</td>\n    </tr>\n    <tr>\n      <th>3176</th>\n      <td>1st floor (68m2) apartment on Kollwitzplatz/ P...</td>\n      <td>This beautiful first floor apartment  is situa...</td>\n      <td>The neighbourhood is famous for its variety of...</td>\n      <td>Apartment</td>\n      <td>Entire home/apt</td>\n      <td>4</td>\n      <td>1.0</td>\n      <td>1.0</td>\n      <td>2.0</td>\n      <td>Real Bed</td>\n      <td>{Internet,Wifi,Kitchen,\"Buzzer/wireless interc...</td>\n      <td>720.0</td>\n      <td>$90.00</td>\n      <td>$200.00</td>\n      <td>$50.00</td>\n      <td>$20.00</td>\n      <td>62</td>\n      <td>92.0</td>\n      <td>t</td>\n      <td>strict_14_with_grace_period</td>\n    </tr>\n    <tr>\n      <th>3309</th>\n      <td>Your room is really big and has 26 sqm, is ver...</td>\n      <td>First of all: I prefer short-notice bookings. ...</td>\n      <td>My flat is in the middle of West-Berlin, direc...</td>\n      <td>Apartment</td>\n      <td>Private room</td>\n      <td>2</td>\n      <td>1.0</td>\n      <td>1.0</td>\n      <td>1.0</td>\n      <td>Pull-out Sofa</td>\n      <td>{Internet,Wifi,\"Pets allowed\",\"Pets live on th...</td>\n      <td>0.0</td>\n      <td>$26.00</td>\n      <td>$250.00</td>\n      <td>$30.00</td>\n      <td>$18.00</td>\n      <td>5</td>\n      <td>88.0</td>\n      <td>f</td>\n      <td>strict_14_with_grace_period</td>\n    </tr>\n    <tr>\n      <th>7071</th>\n      <td>The BrightRoom is an approx. 20 sqm (215ft\u00b2), ...</td>\n      <td>Cozy and large room in the beautiful district ...</td>\n      <td>Great neighborhood with plenty of Caf\u00e9s, Baker...</td>\n      <td>Apartment</td>\n      <td>Private room</td>\n      <td>2</td>\n      <td>1.0</td>\n      <td>1.0</td>\n      <td>2.0</td>\n      <td>Real Bed</td>\n      <td>{Wifi,Heating,\"Family/kid friendly\",Essentials...</td>\n      <td>NaN</td>\n      <td>$42.00</td>\n      <td>$0.00</td>\n      <td>$0.00</td>\n      <td>$24.00</td>\n      <td>2</td>\n      <td>96.0</td>\n      <td>f</td>\n      <td>moderate</td>\n    </tr>\n  </tbody>\n</table>\n</div>", 
                        "text/plain": "                                                  space  \\\nid                                                        \n2015  A+++ location! This \u201eEinliegerwohnung\u201c is an e...   \n2695  In the summertime we are spending most of our ...   \n3176  1st floor (68m2) apartment on Kollwitzplatz/ P...   \n3309  Your room is really big and has 26 sqm, is ver...   \n7071  The BrightRoom is an approx. 20 sqm (215ft\u00b2), ...   \n\n                                            description  \\\nid                                                        \n2015  Great location!  30 of 75 sq meters. This wood...   \n2695  In the summertime we are spending most of our ...   \n3176  This beautiful first floor apartment  is situa...   \n3309  First of all: I prefer short-notice bookings. ...   \n7071  Cozy and large room in the beautiful district ...   \n\n                                  neighborhood_overview property_type  \\\nid                                                                      \n2015  It is located in the former East Berlin area o...    Guesthouse   \n2695                                                NaN     Apartment   \n3176  The neighbourhood is famous for its variety of...     Apartment   \n3309  My flat is in the middle of West-Berlin, direc...     Apartment   \n7071  Great neighborhood with plenty of Caf\u00e9s, Baker...     Apartment   \n\n            room_type  accommodates  bathrooms  bedrooms  beds       bed_type  \\\nid                                                                              \n2015  Entire home/apt             3        1.0       1.0   2.0       Real Bed   \n2695     Private room             2        1.0       1.0   1.0       Real Bed   \n3176  Entire home/apt             4        1.0       1.0   2.0       Real Bed   \n3309     Private room             2        1.0       1.0   1.0  Pull-out Sofa   \n7071     Private room             2        1.0       1.0   2.0       Real Bed   \n\n                                              amenities  square_feet   price  \\\nid                                                                             \n2015  {TV,\"Cable TV\",Wifi,Kitchen,Gym,Heating,\"Famil...          NaN  $60.00   \n2695  {Wifi,Kitchen,Elevator,Heating,Washer,Essentia...          NaN  $17.00   \n3176  {Internet,Wifi,Kitchen,\"Buzzer/wireless interc...        720.0  $90.00   \n3309  {Internet,Wifi,\"Pets allowed\",\"Pets live on th...          0.0  $26.00   \n7071  {Wifi,Heating,\"Family/kid friendly\",Essentials...          NaN  $42.00   \n\n     security_deposit cleaning_fee extra_people  minimum_nights  \\\nid                                                                \n2015          $200.00       $30.00       $28.00               4   \n2695            $0.00        $0.00        $0.00               2   \n3176          $200.00       $50.00       $20.00              62   \n3309          $250.00       $30.00       $18.00               5   \n7071            $0.00        $0.00       $24.00               2   \n\n      review_scores_rating instant_bookable          cancellation_policy  \nid                                                                        \n2015                  93.0                f  strict_14_with_grace_period  \n2695                 100.0                f                     flexible  \n3176                  92.0                t  strict_14_with_grace_period  \n3309                  88.0                f  strict_14_with_grace_period  \n7071                  96.0                f                     moderate  "
                    }, 
                    "execution_count": 132, 
                    "metadata": {}
                }
            ], 
            "execution_count": 132
        }, 
        {
            "source": "temp_data.isnull().sum(axis=0)", 
            "cell_type": "code", 
            "metadata": {}, 
            "outputs": [
                {
                    "output_type": "execute_result", 
                    "data": {
                        "text/plain": "space                     8532\ndescription                203\nneighborhood_overview    11012\nproperty_type                0\nroom_type                    0\naccommodates                 0\nbathrooms                   32\nbedrooms                    18\nbeds                        40\nbed_type                     0\namenities                    0\nsquare_feet              22106\nprice                        0\nsecurity_deposit          9361\ncleaning_fee              7146\nextra_people                 0\nminimum_nights               0\nreview_scores_rating      4389\ninstant_bookable             0\ncancellation_policy          0\ndtype: int64"
                    }, 
                    "execution_count": 133, 
                    "metadata": {}
                }
            ], 
            "execution_count": 133
        }, 
        {
            "source": "temp_data.security_deposit.fillna('$0.00', inplace=True) ", 
            "cell_type": "code", 
            "metadata": {}, 
            "outputs": [], 
            "execution_count": 134
        }, 
        {
            "source": "temp_data.cleaning_fee.fillna('$0.00',inplace=True)", 
            "cell_type": "code", 
            "metadata": {}, 
            "outputs": [], 
            "execution_count": 135
        }, 
        {
            "source": "temp_data[['security_deposit','cleaning_fee']].isnull().sum(axis=0)", 
            "cell_type": "code", 
            "metadata": {}, 
            "outputs": [
                {
                    "output_type": "execute_result", 
                    "data": {
                        "text/plain": "security_deposit    0\ncleaning_fee        0\ndtype: int64"
                    }, 
                    "execution_count": 137, 
                    "metadata": {}
                }
            ], 
            "execution_count": 137
        }, 
        {
            "source": "temp_data.head(3)", 
            "cell_type": "code", 
            "metadata": {}, 
            "outputs": [
                {
                    "output_type": "execute_result", 
                    "data": {
                        "text/html": "<div>\n<style scoped>\n    .dataframe tbody tr th:only-of-type {\n        vertical-align: middle;\n    }\n\n    .dataframe tbody tr th {\n        vertical-align: top;\n    }\n\n    .dataframe thead th {\n        text-align: right;\n    }\n</style>\n<table border=\"1\" class=\"dataframe\">\n  <thead>\n    <tr style=\"text-align: right;\">\n      <th></th>\n      <th>space</th>\n      <th>description</th>\n      <th>neighborhood_overview</th>\n      <th>property_type</th>\n      <th>room_type</th>\n      <th>accommodates</th>\n      <th>bathrooms</th>\n      <th>bedrooms</th>\n      <th>beds</th>\n      <th>bed_type</th>\n      <th>amenities</th>\n      <th>square_feet</th>\n      <th>price</th>\n      <th>security_deposit</th>\n      <th>cleaning_fee</th>\n      <th>extra_people</th>\n      <th>minimum_nights</th>\n      <th>review_scores_rating</th>\n      <th>instant_bookable</th>\n      <th>cancellation_policy</th>\n    </tr>\n    <tr>\n      <th>id</th>\n      <th></th>\n      <th></th>\n      <th></th>\n      <th></th>\n      <th></th>\n      <th></th>\n      <th></th>\n      <th></th>\n      <th></th>\n      <th></th>\n      <th></th>\n      <th></th>\n      <th></th>\n      <th></th>\n      <th></th>\n      <th></th>\n      <th></th>\n      <th></th>\n      <th></th>\n      <th></th>\n    </tr>\n  </thead>\n  <tbody>\n    <tr>\n      <th>2015</th>\n      <td>A+++ location! This \u201eEinliegerwohnung\u201c is an e...</td>\n      <td>Great location!  30 of 75 sq meters. This wood...</td>\n      <td>It is located in the former East Berlin area o...</td>\n      <td>Guesthouse</td>\n      <td>Entire home/apt</td>\n      <td>3</td>\n      <td>1.0</td>\n      <td>1.0</td>\n      <td>2.0</td>\n      <td>Real Bed</td>\n      <td>{TV,\"Cable TV\",Wifi,Kitchen,Gym,Heating,\"Famil...</td>\n      <td>NaN</td>\n      <td>$60.00</td>\n      <td>$200.00</td>\n      <td>$30.00</td>\n      <td>$28.00</td>\n      <td>4</td>\n      <td>93.0</td>\n      <td>f</td>\n      <td>strict_14_with_grace_period</td>\n    </tr>\n    <tr>\n      <th>2695</th>\n      <td>In the summertime we are spending most of our ...</td>\n      <td>In the summertime we are spending most of our ...</td>\n      <td>NaN</td>\n      <td>Apartment</td>\n      <td>Private room</td>\n      <td>2</td>\n      <td>1.0</td>\n      <td>1.0</td>\n      <td>1.0</td>\n      <td>Real Bed</td>\n      <td>{Wifi,Kitchen,Elevator,Heating,Washer,Essentia...</td>\n      <td>NaN</td>\n      <td>$17.00</td>\n      <td>$0.00</td>\n      <td>$0.00</td>\n      <td>$0.00</td>\n      <td>2</td>\n      <td>100.0</td>\n      <td>f</td>\n      <td>flexible</td>\n    </tr>\n    <tr>\n      <th>3176</th>\n      <td>1st floor (68m2) apartment on Kollwitzplatz/ P...</td>\n      <td>This beautiful first floor apartment  is situa...</td>\n      <td>The neighbourhood is famous for its variety of...</td>\n      <td>Apartment</td>\n      <td>Entire home/apt</td>\n      <td>4</td>\n      <td>1.0</td>\n      <td>1.0</td>\n      <td>2.0</td>\n      <td>Real Bed</td>\n      <td>{Internet,Wifi,Kitchen,\"Buzzer/wireless interc...</td>\n      <td>720.0</td>\n      <td>$90.00</td>\n      <td>$200.00</td>\n      <td>$50.00</td>\n      <td>$20.00</td>\n      <td>62</td>\n      <td>92.0</td>\n      <td>t</td>\n      <td>strict_14_with_grace_period</td>\n    </tr>\n  </tbody>\n</table>\n</div>", 
                        "text/plain": "                                                  space  \\\nid                                                        \n2015  A+++ location! This \u201eEinliegerwohnung\u201c is an e...   \n2695  In the summertime we are spending most of our ...   \n3176  1st floor (68m2) apartment on Kollwitzplatz/ P...   \n\n                                            description  \\\nid                                                        \n2015  Great location!  30 of 75 sq meters. This wood...   \n2695  In the summertime we are spending most of our ...   \n3176  This beautiful first floor apartment  is situa...   \n\n                                  neighborhood_overview property_type  \\\nid                                                                      \n2015  It is located in the former East Berlin area o...    Guesthouse   \n2695                                                NaN     Apartment   \n3176  The neighbourhood is famous for its variety of...     Apartment   \n\n            room_type  accommodates  bathrooms  bedrooms  beds  bed_type  \\\nid                                                                         \n2015  Entire home/apt             3        1.0       1.0   2.0  Real Bed   \n2695     Private room             2        1.0       1.0   1.0  Real Bed   \n3176  Entire home/apt             4        1.0       1.0   2.0  Real Bed   \n\n                                              amenities  square_feet   price  \\\nid                                                                             \n2015  {TV,\"Cable TV\",Wifi,Kitchen,Gym,Heating,\"Famil...          NaN  $60.00   \n2695  {Wifi,Kitchen,Elevator,Heating,Washer,Essentia...          NaN  $17.00   \n3176  {Internet,Wifi,Kitchen,\"Buzzer/wireless interc...        720.0  $90.00   \n\n     security_deposit cleaning_fee extra_people  minimum_nights  \\\nid                                                                \n2015          $200.00       $30.00       $28.00               4   \n2695            $0.00        $0.00        $0.00               2   \n3176          $200.00       $50.00       $20.00              62   \n\n      review_scores_rating instant_bookable          cancellation_policy  \nid                                                                        \n2015                  93.0                f  strict_14_with_grace_period  \n2695                 100.0                f                     flexible  \n3176                  92.0                t  strict_14_with_grace_period  "
                    }, 
                    "execution_count": 138, 
                    "metadata": {}
                }
            ], 
            "execution_count": 138
        }, 
        {
            "source": "temp_data.room_type.value_counts()", 
            "cell_type": "code", 
            "metadata": {}, 
            "outputs": [
                {
                    "output_type": "execute_result", 
                    "data": {
                        "text/plain": "Private room       11534\nEntire home/apt    10722\nShared room          296\nName: room_type, dtype: int64"
                    }, 
                    "execution_count": 139, 
                    "metadata": {}
                }
            ], 
            "execution_count": 139
        }, 
        {
            "source": "temp_data.dtypes", 
            "cell_type": "code", 
            "metadata": {}, 
            "outputs": [
                {
                    "output_type": "execute_result", 
                    "data": {
                        "text/plain": "space                     object\ndescription               object\nneighborhood_overview     object\nproperty_type             object\nroom_type                 object\naccommodates               int64\nbathrooms                float64\nbedrooms                 float64\nbeds                     float64\nbed_type                  object\namenities                 object\nsquare_feet              float64\nprice                     object\nsecurity_deposit          object\ncleaning_fee              object\nextra_people              object\nminimum_nights             int64\nreview_scores_rating     float64\ninstant_bookable          object\ncancellation_policy       object\ndtype: object"
                    }, 
                    "execution_count": 140, 
                    "metadata": {}
                }
            ], 
            "execution_count": 140
        }, 
        {
            "source": "temp_data.price=list(map(lambda x: x.replace(',',''),temp_data.price))", 
            "cell_type": "code", 
            "metadata": {}, 
            "outputs": [], 
            "execution_count": 141
        }, 
        {
            "source": "temp_data.security_deposit=list(map(lambda x: x.replace(',',''),temp_data.security_deposit))", 
            "cell_type": "code", 
            "metadata": {}, 
            "outputs": [], 
            "execution_count": 150
        }, 
        {
            "source": "temp_data.cleaning_fee=list(map(lambda x: x.replace(',',''),temp_data.cleaning_fee))", 
            "cell_type": "code", 
            "metadata": {}, 
            "outputs": [], 
            "execution_count": 151
        }, 
        {
            "source": "temp_data['price'].value_counts()", 
            "cell_type": "code", 
            "metadata": {}, 
            "outputs": [
                {
                    "output_type": "execute_result", 
                    "data": {
                        "text/plain": "030.00      1387\n035.00      1256\n050.00      1247\n040.00      1191\n025.00      1121\n045.00       894\n060.00       843\n055.00       638\n020.00       622\n070.00       571\n080.00       557\n065.00       529\n075.00       411\n0100.00      401\n039.00       399\n049.00       362\n029.00       332\n090.00       323\n028.00       296\n022.00       269\n059.00       267\n069.00       266\n085.00       257\n032.00       255\n0120.00      254\n038.00       251\n027.00       238\n042.00       226\n023.00       206\n095.00       203\n            ... \n0227.00        1\n0525.00        1\n0136.00        1\n01900.00       1\n0418.00        1\n09000.00       1\n0174.00        1\n08600.00       1\n0379.00        1\n01.00          1\n0455.00        1\n01875.00       1\n03000.00       1\n0444.00        1\n0182.00        1\n0480.00        1\n01250.00       1\n0421.00        1\n0161.00        1\n01500.00       1\n0188.00        1\n01050.00       1\n0258.00        1\n0237.00        1\n0439.00        1\n0330.00        1\n0268.00        1\n0228.00        1\n0999.00        1\n0168.00        1\nName: price, Length: 295, dtype: int64"
                    }, 
                    "execution_count": 152, 
                    "metadata": {}
                }
            ], 
            "execution_count": 152
        }, 
        {
            "source": "temp_data.price=list(map(lambda x: x.replace('$','0'),temp_data.price))", 
            "cell_type": "code", 
            "metadata": {}, 
            "outputs": [], 
            "execution_count": 153
        }, 
        {
            "source": "temp_data.security_deposit=list(map(lambda x: x.replace('$','0'),temp_data.security_deposit))", 
            "cell_type": "code", 
            "metadata": {}, 
            "outputs": [], 
            "execution_count": 154
        }, 
        {
            "source": "temp_data.cleaning_fee=list(map(lambda x: x.replace('$','0'),temp_data.cleaning_fee))", 
            "cell_type": "code", 
            "metadata": {}, 
            "outputs": [], 
            "execution_count": 155
        }, 
        {
            "source": "temp_data['security_deposit'].value_counts()", 
            "cell_type": "code", 
            "metadata": {}, 
            "outputs": [
                {
                    "output_type": "execute_result", 
                    "data": {
                        "text/plain": "00.00       14680\n0100.00      1716\n0200.00      1425\n0150.00       864\n0500.00       817\n0300.00       755\n0250.00       465\n0400.00       273\n01000.00      250\n090.00        127\n0350.00       113\n0600.00       101\n0800.00        99\n01500.00       77\n02000.00       68\n085.00         64\n0700.00        39\n0120.00        37\n0108.00        35\n0450.00        31\n0180.00        28\n01200.00       25\n03000.00       25\n0750.00        24\n086.00         23\n0900.00        22\n04000.00       21\n088.00         19\n095.00         15\n0190.00        15\n            ...  \n0690.00         1\n0215.00         1\n0505.00         1\n01326.00        1\n0802.00         1\n02600.00        1\n093.00          1\n0216.00         1\n0229.00         1\n0155.00         1\n01255.00        1\n0211.00         1\n0213.00         1\n0102.00         1\n0817.00         1\n0195.00         1\n0275.00         1\n0575.00         1\n0420.00         1\n0170.00         1\n0187.00         1\n0128.00         1\n0480.00         1\n04253.00        1\n0775.00         1\n0360.00         1\n01250.00        1\n0222.00         1\n0251.00         1\n03499.00        1\nName: security_deposit, Length: 142, dtype: int64"
                    }, 
                    "execution_count": 156, 
                    "metadata": {}
                }
            ], 
            "execution_count": 156
        }, 
        {
            "source": "temp_data['cleaning_fee'].value_counts()", 
            "cell_type": "code", 
            "metadata": {}, 
            "outputs": [
                {
                    "output_type": "execute_result", 
                    "data": {
                        "text/plain": "00.00       9011\n020.00      1812\n010.00      1633\n030.00      1530\n015.00      1423\n050.00      1060\n025.00      1046\n040.00       861\n05.00        649\n035.00       550\n060.00       319\n045.00       287\n080.00       150\n08.00        138\n012.00       135\n070.00       114\n0100.00      113\n019.00        86\n065.00        83\n055.00        77\n018.00        77\n029.00        74\n049.00        68\n075.00        67\n036.00        66\n09.00         66\n04.00         66\n07.00         64\n039.00        61\n0150.00       55\n            ... \n0180.00        4\n097.00         3\n0106.00        3\n086.00         3\n087.00         3\n0190.00        3\n056.00         3\n088.00         2\n0450.00        2\n031.00         2\n0280.00        2\n0175.00        2\n0105.00        2\n063.00         2\n076.00         2\n0299.00        1\n0420.00        1\n084.00         1\n0300.00        1\n0119.00        1\n041.00         1\n0135.00        1\n0320.00        1\n064.00         1\n0108.00        1\n02000.00       1\n0166.00        1\n0129.00        1\n0210.00        1\n066.00         1\nName: cleaning_fee, Length: 112, dtype: int64"
                    }, 
                    "execution_count": 157, 
                    "metadata": {}
                }
            ], 
            "execution_count": 157
        }, 
        {
            "source": "temp_data['price'].value_counts()", 
            "cell_type": "code", 
            "metadata": {}, 
            "outputs": [
                {
                    "output_type": "execute_result", 
                    "data": {
                        "text/plain": "030.00      1387\n035.00      1256\n050.00      1247\n040.00      1191\n025.00      1121\n045.00       894\n060.00       843\n055.00       638\n020.00       622\n070.00       571\n080.00       557\n065.00       529\n075.00       411\n0100.00      401\n039.00       399\n049.00       362\n029.00       332\n090.00       323\n028.00       296\n022.00       269\n059.00       267\n069.00       266\n085.00       257\n032.00       255\n0120.00      254\n038.00       251\n027.00       238\n042.00       226\n023.00       206\n095.00       203\n            ... \n0227.00        1\n0525.00        1\n0136.00        1\n01900.00       1\n0418.00        1\n09000.00       1\n0174.00        1\n08600.00       1\n0379.00        1\n01.00          1\n0455.00        1\n01875.00       1\n03000.00       1\n0444.00        1\n0182.00        1\n0480.00        1\n01250.00       1\n0421.00        1\n0161.00        1\n01500.00       1\n0188.00        1\n01050.00       1\n0258.00        1\n0237.00        1\n0439.00        1\n0330.00        1\n0268.00        1\n0228.00        1\n0999.00        1\n0168.00        1\nName: price, Length: 295, dtype: int64"
                    }, 
                    "execution_count": 158, 
                    "metadata": {}
                }
            ], 
            "execution_count": 158
        }, 
        {
            "source": "temp_data[['price','security_deposit','cleaning_fee']]=temp_data[['price','security_deposit','cleaning_fee']].astype(float)", 
            "cell_type": "code", 
            "metadata": {}, 
            "outputs": [], 
            "execution_count": 159
        }, 
        {
            "source": "temp_data['Total_price']=temp_data[['security_deposit','cleaning_fee','price']].sum(axis=1)", 
            "cell_type": "code", 
            "metadata": {}, 
            "outputs": [], 
            "execution_count": 160
        }, 
        {
            "source": "temp_data.head(2)", 
            "cell_type": "code", 
            "metadata": {}, 
            "outputs": [
                {
                    "output_type": "execute_result", 
                    "data": {
                        "text/html": "<div>\n<style scoped>\n    .dataframe tbody tr th:only-of-type {\n        vertical-align: middle;\n    }\n\n    .dataframe tbody tr th {\n        vertical-align: top;\n    }\n\n    .dataframe thead th {\n        text-align: right;\n    }\n</style>\n<table border=\"1\" class=\"dataframe\">\n  <thead>\n    <tr style=\"text-align: right;\">\n      <th></th>\n      <th>space</th>\n      <th>description</th>\n      <th>neighborhood_overview</th>\n      <th>property_type</th>\n      <th>room_type</th>\n      <th>accommodates</th>\n      <th>bathrooms</th>\n      <th>bedrooms</th>\n      <th>beds</th>\n      <th>bed_type</th>\n      <th>...</th>\n      <th>square_feet</th>\n      <th>price</th>\n      <th>security_deposit</th>\n      <th>cleaning_fee</th>\n      <th>extra_people</th>\n      <th>minimum_nights</th>\n      <th>review_scores_rating</th>\n      <th>instant_bookable</th>\n      <th>cancellation_policy</th>\n      <th>Total_price</th>\n    </tr>\n    <tr>\n      <th>id</th>\n      <th></th>\n      <th></th>\n      <th></th>\n      <th></th>\n      <th></th>\n      <th></th>\n      <th></th>\n      <th></th>\n      <th></th>\n      <th></th>\n      <th></th>\n      <th></th>\n      <th></th>\n      <th></th>\n      <th></th>\n      <th></th>\n      <th></th>\n      <th></th>\n      <th></th>\n      <th></th>\n      <th></th>\n    </tr>\n  </thead>\n  <tbody>\n    <tr>\n      <th>2015</th>\n      <td>A+++ location! This \u201eEinliegerwohnung\u201c is an e...</td>\n      <td>Great location!  30 of 75 sq meters. This wood...</td>\n      <td>It is located in the former East Berlin area o...</td>\n      <td>Guesthouse</td>\n      <td>Entire home/apt</td>\n      <td>3</td>\n      <td>1.0</td>\n      <td>1.0</td>\n      <td>2.0</td>\n      <td>Real Bed</td>\n      <td>...</td>\n      <td>NaN</td>\n      <td>60.0</td>\n      <td>200.0</td>\n      <td>30.0</td>\n      <td>$28.00</td>\n      <td>4</td>\n      <td>93.0</td>\n      <td>f</td>\n      <td>strict_14_with_grace_period</td>\n      <td>290.0</td>\n    </tr>\n    <tr>\n      <th>2695</th>\n      <td>In the summertime we are spending most of our ...</td>\n      <td>In the summertime we are spending most of our ...</td>\n      <td>NaN</td>\n      <td>Apartment</td>\n      <td>Private room</td>\n      <td>2</td>\n      <td>1.0</td>\n      <td>1.0</td>\n      <td>1.0</td>\n      <td>Real Bed</td>\n      <td>...</td>\n      <td>NaN</td>\n      <td>17.0</td>\n      <td>0.0</td>\n      <td>0.0</td>\n      <td>$0.00</td>\n      <td>2</td>\n      <td>100.0</td>\n      <td>f</td>\n      <td>flexible</td>\n      <td>17.0</td>\n    </tr>\n  </tbody>\n</table>\n<p>2 rows \u00d7 21 columns</p>\n</div>", 
                        "text/plain": "                                                  space  \\\nid                                                        \n2015  A+++ location! This \u201eEinliegerwohnung\u201c is an e...   \n2695  In the summertime we are spending most of our ...   \n\n                                            description  \\\nid                                                        \n2015  Great location!  30 of 75 sq meters. This wood...   \n2695  In the summertime we are spending most of our ...   \n\n                                  neighborhood_overview property_type  \\\nid                                                                      \n2015  It is located in the former East Berlin area o...    Guesthouse   \n2695                                                NaN     Apartment   \n\n            room_type  accommodates  bathrooms  bedrooms  beds  bed_type  ...  \\\nid                                                                        ...   \n2015  Entire home/apt             3        1.0       1.0   2.0  Real Bed  ...   \n2695     Private room             2        1.0       1.0   1.0  Real Bed  ...   \n\n     square_feet  price  security_deposit  cleaning_fee  extra_people  \\\nid                                                                      \n2015         NaN   60.0             200.0          30.0        $28.00   \n2695         NaN   17.0               0.0           0.0         $0.00   \n\n     minimum_nights  review_scores_rating  instant_bookable  \\\nid                                                            \n2015              4                  93.0                 f   \n2695              2                 100.0                 f   \n\n              cancellation_policy Total_price  \nid                                             \n2015  strict_14_with_grace_period       290.0  \n2695                     flexible        17.0  \n\n[2 rows x 21 columns]"
                    }, 
                    "execution_count": 161, 
                    "metadata": {}
                }
            ], 
            "execution_count": 161
        }, 
        {
            "source": "avg_perRoom=temp_data.groupby(['room_type'])['price'].agg(np.mean)\n#data.groupby(['neighbourhood','room_type'])['price'].agg(['mean'])", 
            "cell_type": "code", 
            "metadata": {}, 
            "outputs": [], 
            "execution_count": 162
        }, 
        {
            "source": "avg_perRoom.plot(kind='bar', figsize=(8,8), fontsize=10,color='green')\nplt.title(\"Average Price per Room Type\",fontsize=15)\nplt.xlabel(\"Room Type\",fontsize=12)\nplt.ylabel(\"Average price in dollar\",fontsize=12)\nplt.show()", 
            "cell_type": "code", 
            "metadata": {}, 
            "outputs": [
                {
                    "output_type": "display_data", 
                    "data": {
                        "image/png": "[encoded data removed]", 
                        "text/plain": "<Figure size 576x576 with 1 Axes>"
                    }, 
                    "metadata": {
                        "needs_background": "light"
                    }
                }
            ], 
            "execution_count": 177
        }, 
        {
            "source": "### Above graph shows that Average amount we have to pay per Room Type", 
            "cell_type": "markdown", 
            "metadata": {}
        }, 
        {
            "source": "# Room Type, Bed Type and it's count", 
            "cell_type": "markdown", 
            "metadata": {}
        }, 
        {
            "source": "temp_data.bed_type.value_counts()", 
            "cell_type": "code", 
            "metadata": {}, 
            "outputs": [
                {
                    "output_type": "execute_result", 
                    "data": {
                        "text/plain": "Real Bed         21766\nPull-out Sofa      451\nFuton              240\nCouch               72\nAirbed              23\nName: bed_type, dtype: int64"
                    }, 
                    "execution_count": 180, 
                    "metadata": {}
                }
            ], 
            "execution_count": 180
        }, 
        {
            "source": "bed_perRoom=temp_data.groupby(['room_type'])['bed_type']", 
            "cell_type": "code", 
            "metadata": {}, 
            "outputs": [], 
            "execution_count": 216
        }, 
        {
            "source": "bed_perRoom.value_counts()", 
            "cell_type": "code", 
            "metadata": {}, 
            "outputs": [
                {
                    "output_type": "execute_result", 
                    "data": {
                        "text/plain": "room_type        bed_type     \nEntire home/apt  Real Bed         10469\n                 Pull-out Sofa      144\n                 Futon               71\n                 Couch               29\n                 Airbed               9\nPrivate room     Real Bed         11024\n                 Pull-out Sofa      295\n                 Futon              166\n                 Couch               39\n                 Airbed              10\nShared room      Real Bed           273\n                 Pull-out Sofa       12\n                 Airbed               4\n                 Couch                4\n                 Futon                3\nName: bed_type, dtype: int64"
                    }, 
                    "execution_count": 203, 
                    "metadata": {}
                }
            ], 
            "execution_count": 203
        }, 
        {
            "source": "# Room Type, Property and its count", 
            "cell_type": "markdown", 
            "metadata": {}
        }, 
        {
            "source": "property_type_perRoom=temp_data.groupby(['room_type'])['property_type']\n                 ", 
            "cell_type": "code", 
            "metadata": {}, 
            "outputs": [], 
            "execution_count": 236
        }, 
        {
            "source": "property_type_perRoom.value_counts()", 
            "cell_type": "code", 
            "metadata": {}, 
            "outputs": [
                {
                    "output_type": "execute_result", 
                    "data": {
                        "text/plain": "room_type        property_type         \nEntire home/apt  Apartment                  9479\n                 Loft                        360\n                 Condominium                 345\n                 House                       166\n                 Serviced apartment          164\n                 Guesthouse                   48\n                 Guest suite                  37\n                 Townhouse                    31\n                 Bungalow                     18\n                 Boat                         16\n                 Other                        12\n                 Houseboat                    10\n                 Camper/RV                     9\n                 Tiny house                    6\n                 Cabin                         5\n                 Villa                         5\n                 Cottage                       4\n                 Barn                          1\n                 Bed and breakfast             1\n                 Castle                        1\n                 Chalet                        1\n                 Hostel                        1\n                 Island                        1\n                 Train                         1\nPrivate room     Apartment                 10547\n                 Condominium                 256\n                 House                       227\n                 Loft                         96\n                 Townhouse                    67\n                 Bed and breakfast            61\n                                           ...  \n                 Guesthouse                    8\n                 Aparthotel                    7\n                 Pension (South Korea)         7\n                 Tiny house                    5\n                 Villa                         5\n                 Resort                        3\n                 Bungalow                      2\n                 Casa particular (Cuba)        2\n                 Camper/RV                     1\n                 Castle                        1\n                 Cave                          1\n                 Houseboat                     1\n                 In-law                        1\n                 Tipi                          1\n                 Train                         1\nShared room      Apartment                   199\n                 Hostel                       66\n                 Condominium                  11\n                 House                         5\n                 Loft                          4\n                 Bed and breakfast             2\n                 Boat                          1\n                 Cabin                         1\n                 Camper/RV                     1\n                 Guest suite                   1\n                 Guesthouse                    1\n                 Other                         1\n                 Serviced apartment            1\n                 Tiny house                    1\n                 Townhouse                     1\nName: property_type, Length: 66, dtype: int64"
                    }, 
                    "execution_count": 237, 
                    "metadata": {}
                }
            ], 
            "execution_count": 237
        }, 
        {
            "source": "# Room Type and it's Average Review Score", 
            "cell_type": "markdown", 
            "metadata": {}
        }, 
        {
            "source": "score_perRoom=temp_data.groupby(['room_type'])['review_scores_rating'].agg(np.mean)\n\n", 
            "cell_type": "code", 
            "metadata": {}, 
            "outputs": [], 
            "execution_count": 238
        }, 
        {
            "source": "score_perRoom.plot(kind='pie',autopct=\"%1.1f%%\",startangle=90,figsize=(8,8))", 
            "cell_type": "code", 
            "metadata": {}, 
            "outputs": [
                {
                    "output_type": "execute_result", 
                    "data": {
                        "text/plain": "<matplotlib.axes._subplots.AxesSubplot at 0x7f12e942f390>"
                    }, 
                    "execution_count": 243, 
                    "metadata": {}
                }, 
                {
                    "output_type": "display_data", 
                    "data": {
                        "image/png": "[encoded data removed]", 
                        "text/plain": "<Figure size 576x576 with 1 Axes>"
                    }, 
                    "metadata": {}
                }
            ], 
            "execution_count": 243
        }, 
        {
            "source": "### Above Fig shows that Private and Entire home/apt has same average score", 
            "cell_type": "markdown", 
            "metadata": {}
        }, 
        {
            "source": "", 
            "cell_type": "code", 
            "metadata": {}, 
            "outputs": [], 
            "execution_count": null
        }
    ], 
    "metadata": {
        "kernelspec": {
            "display_name": "Python 3.6", 
            "name": "python3", 
            "language": "python"
        }, 
        "language_info": {
            "mimetype": "text/x-python", 
            "nbconvert_exporter": "python", 
            "version": "3.6.8", 
            "name": "python", 
            "pygments_lexer": "ipython3", 
            "file_extension": ".py", 
            "codemirror_mode": {
                "version": 3, 
                "name": "ipython"
            }
        }
    }, 
    "nbformat": 4
}