{
    "cells": [
        {
            "cell_type": "code",
            "execution_count": 17,
            "metadata": {},
            "outputs": [],
            "source": "import keras\nimport tensorflow as tf\nfrom tensorflow.keras.models import Sequential\nfrom tensorflow.keras.layers import Dense, Dropout, Flatten\nfrom tensorflow.keras.layers import Conv2D, MaxPooling2D\nfrom tensorflow.keras.utils import to_categorical\nfrom tensorflow.keras.preprocessing import image\nimport numpy as np\nimport pandas as pd\n\nimport matplotlib.pyplot as plt\nfrom sklearn.model_selection import train_test_split\nfrom tensorflow.keras.utils import to_categorical\nfrom tqdm import tqdm"
        },
        {
            "cell_type": "code",
            "execution_count": 18,
            "metadata": {},
            "outputs": [
                {
                    "name": "stdout",
                    "output_type": "stream",
                    "text": "--2020-01-18 09:58:15--  https://raw.githubusercontent.com/shitalajagekar/DataScience/master/imagedata.csv\nResolving raw.githubusercontent.com (raw.githubusercontent.com)... 199.232.8.133\nConnecting to raw.githubusercontent.com (raw.githubusercontent.com)|199.232.8.133|:443... connected.\nHTTP request sent, awaiting response... 200 OK\nLength: 1776 (1.7K) [text/plain]\nSaving to: \u2018imagedata.csv\u2019\n\n100%[======================================>] 1,776       --.-K/s   in 0s      \n\n2020-01-18 09:58:15 (28.6 MB/s) - \u2018imagedata.csv\u2019 saved [1776/1776]\n\n"
                }
            ],
            "source": "!wget -O imagedata.csv https://raw.githubusercontent.com/shitalajagekar/DataScience/master/imagedata.csv"
        },
        {
            "cell_type": "code",
            "execution_count": 19,
            "metadata": {},
            "outputs": [
                {
                    "name": "stdout",
                    "output_type": "stream",
                    "text": "--2020-01-18 09:58:16--  https://raw.githubusercontent.com/shitalajagekar/DataScience/master/images.zip\nResolving raw.githubusercontent.com (raw.githubusercontent.com)... 199.232.8.133\nConnecting to raw.githubusercontent.com (raw.githubusercontent.com)|199.232.8.133|:443... connected.\nHTTP request sent, awaiting response... 200 OK\nLength: 1828109 (1.7M) [application/zip]\nSaving to: \u2018images.zip\u2019\n\n100%[======================================>] 1,828,109   --.-K/s   in 0.06s   \n\n2020-01-18 09:58:16 (28.0 MB/s) - \u2018images.zip\u2019 saved [1828109/1828109]\n\n"
                }
            ],
            "source": "!wget -O images.zip https://raw.githubusercontent.com/shitalajagekar/DataScience/master/images.zip"
        },
        {
            "cell_type": "code",
            "execution_count": 31,
            "metadata": {},
            "outputs": [],
            "source": "from zipfile import ZipFile\n\nimage = ZipFile('images.zip')\nimage.extractall('images')\n"
        },
        {
            "cell_type": "code",
            "execution_count": 32,
            "metadata": {},
            "outputs": [
                {
                    "name": "stdout",
                    "output_type": "stream",
                    "text": "imagedata.csv  images  images.zip\r\n"
                }
            ],
            "source": "!ls"
        },
        {
            "cell_type": "code",
            "execution_count": 33,
            "metadata": {},
            "outputs": [],
            "source": "import pandas as pd\ndf=pd.read_csv(\"imagedata.csv\")"
        },
        {
            "cell_type": "code",
            "execution_count": 34,
            "metadata": {},
            "outputs": [
                {
                    "data": {
                        "text/html": "<div>\n<style scoped>\n    .dataframe tbody tr th:only-of-type {\n        vertical-align: middle;\n    }\n\n    .dataframe tbody tr th {\n        vertical-align: top;\n    }\n\n    .dataframe thead th {\n        text-align: right;\n    }\n</style>\n<table border=\"1\" class=\"dataframe\">\n  <thead>\n    <tr style=\"text-align: right;\">\n      <th></th>\n      <th>label</th>\n      <th>path</th>\n    </tr>\n  </thead>\n  <tbody>\n    <tr>\n      <th>0</th>\n      <td>0</td>\n      <td>a1.jpg</td>\n    </tr>\n    <tr>\n      <th>1</th>\n      <td>0</td>\n      <td>a2.jpg</td>\n    </tr>\n    <tr>\n      <th>2</th>\n      <td>0</td>\n      <td>a3.jpg</td>\n    </tr>\n    <tr>\n      <th>3</th>\n      <td>0</td>\n      <td>a4.jpg</td>\n    </tr>\n    <tr>\n      <th>4</th>\n      <td>0</td>\n      <td>a5.jpg</td>\n    </tr>\n  </tbody>\n</table>\n</div>",
                        "text/plain": "   label    path\n0      0  a1.jpg\n1      0  a2.jpg\n2      0  a3.jpg\n3      0  a4.jpg\n4      0  a5.jpg"
                    },
                    "execution_count": 34,
                    "metadata": {},
                    "output_type": "execute_result"
                }
            ],
            "source": "df.head()"
        },
        {
            "cell_type": "code",
            "execution_count": 35,
            "metadata": {},
            "outputs": [
                {
                    "data": {
                        "text/html": "<div>\n<style scoped>\n    .dataframe tbody tr th:only-of-type {\n        vertical-align: middle;\n    }\n\n    .dataframe tbody tr th {\n        vertical-align: top;\n    }\n\n    .dataframe thead th {\n        text-align: right;\n    }\n</style>\n<table border=\"1\" class=\"dataframe\">\n  <thead>\n    <tr style=\"text-align: right;\">\n      <th></th>\n      <th>label</th>\n      <th>path</th>\n    </tr>\n  </thead>\n  <tbody>\n    <tr>\n      <th>0</th>\n      <td>0</td>\n      <td>a1.jpg</td>\n    </tr>\n    <tr>\n      <th>1</th>\n      <td>0</td>\n      <td>a2.jpg</td>\n    </tr>\n    <tr>\n      <th>2</th>\n      <td>0</td>\n      <td>a3.jpg</td>\n    </tr>\n    <tr>\n      <th>3</th>\n      <td>0</td>\n      <td>a4.jpg</td>\n    </tr>\n    <tr>\n      <th>4</th>\n      <td>0</td>\n      <td>a5.jpg</td>\n    </tr>\n    <tr>\n      <th>5</th>\n      <td>0</td>\n      <td>a6.jpg</td>\n    </tr>\n    <tr>\n      <th>7</th>\n      <td>1</td>\n      <td>b1.jpg</td>\n    </tr>\n    <tr>\n      <th>8</th>\n      <td>1</td>\n      <td>b2.jpg</td>\n    </tr>\n    <tr>\n      <th>9</th>\n      <td>1</td>\n      <td>b3.jpg</td>\n    </tr>\n    <tr>\n      <th>10</th>\n      <td>1</td>\n      <td>b4.jpg</td>\n    </tr>\n    <tr>\n      <th>11</th>\n      <td>1</td>\n      <td>b5.jpg</td>\n    </tr>\n    <tr>\n      <th>12</th>\n      <td>1</td>\n      <td>b6.jpg</td>\n    </tr>\n    <tr>\n      <th>13</th>\n      <td>1</td>\n      <td>b7.jpg</td>\n    </tr>\n    <tr>\n      <th>14</th>\n      <td>2</td>\n      <td>c1.jpg</td>\n    </tr>\n    <tr>\n      <th>15</th>\n      <td>2</td>\n      <td>c2.jpg</td>\n    </tr>\n    <tr>\n      <th>16</th>\n      <td>2</td>\n      <td>c3.jpg</td>\n    </tr>\n    <tr>\n      <th>17</th>\n      <td>2</td>\n      <td>c4.jpg</td>\n    </tr>\n    <tr>\n      <th>18</th>\n      <td>2</td>\n      <td>c5.jpg</td>\n    </tr>\n    <tr>\n      <th>19</th>\n      <td>2</td>\n      <td>c6.jpg</td>\n    </tr>\n    <tr>\n      <th>20</th>\n      <td>2</td>\n      <td>c7.jpg</td>\n    </tr>\n    <tr>\n      <th>21</th>\n      <td>2</td>\n      <td>c8.jpg</td>\n    </tr>\n    <tr>\n      <th>22</th>\n      <td>3</td>\n      <td>d1.jpg</td>\n    </tr>\n    <tr>\n      <th>23</th>\n      <td>3</td>\n      <td>d2.jpg</td>\n    </tr>\n    <tr>\n      <th>24</th>\n      <td>3</td>\n      <td>d3.jpg</td>\n    </tr>\n    <tr>\n      <th>25</th>\n      <td>3</td>\n      <td>d4.jpg</td>\n    </tr>\n    <tr>\n      <th>26</th>\n      <td>3</td>\n      <td>d5.jpg</td>\n    </tr>\n    <tr>\n      <th>27</th>\n      <td>3</td>\n      <td>d6.jpg</td>\n    </tr>\n    <tr>\n      <th>28</th>\n      <td>3</td>\n      <td>d7.jpg</td>\n    </tr>\n    <tr>\n      <th>29</th>\n      <td>4</td>\n      <td>e1.jpg</td>\n    </tr>\n    <tr>\n      <th>30</th>\n      <td>4</td>\n      <td>e2.jpg</td>\n    </tr>\n    <tr>\n      <th>...</th>\n      <td>...</td>\n      <td>...</td>\n    </tr>\n    <tr>\n      <th>137</th>\n      <td>19</td>\n      <td>t4.jpg</td>\n    </tr>\n    <tr>\n      <th>138</th>\n      <td>19</td>\n      <td>t5.jpg</td>\n    </tr>\n    <tr>\n      <th>139</th>\n      <td>19</td>\n      <td>t6.jpg</td>\n    </tr>\n    <tr>\n      <th>140</th>\n      <td>20</td>\n      <td>u1.jpg</td>\n    </tr>\n    <tr>\n      <th>141</th>\n      <td>20</td>\n      <td>u2.jpg</td>\n    </tr>\n    <tr>\n      <th>142</th>\n      <td>20</td>\n      <td>u3.jpg</td>\n    </tr>\n    <tr>\n      <th>143</th>\n      <td>20</td>\n      <td>u4.jpg</td>\n    </tr>\n    <tr>\n      <th>144</th>\n      <td>21</td>\n      <td>v1.jpg</td>\n    </tr>\n    <tr>\n      <th>145</th>\n      <td>21</td>\n      <td>v2.jpg</td>\n    </tr>\n    <tr>\n      <th>146</th>\n      <td>21</td>\n      <td>v3.jpg</td>\n    </tr>\n    <tr>\n      <th>147</th>\n      <td>21</td>\n      <td>v4.jpg</td>\n    </tr>\n    <tr>\n      <th>148</th>\n      <td>21</td>\n      <td>v5.jpg</td>\n    </tr>\n    <tr>\n      <th>149</th>\n      <td>22</td>\n      <td>w1.jpg</td>\n    </tr>\n    <tr>\n      <th>150</th>\n      <td>22</td>\n      <td>w2.jpg</td>\n    </tr>\n    <tr>\n      <th>151</th>\n      <td>22</td>\n      <td>w3.jpg</td>\n    </tr>\n    <tr>\n      <th>152</th>\n      <td>22</td>\n      <td>w4.jpg</td>\n    </tr>\n    <tr>\n      <th>153</th>\n      <td>22</td>\n      <td>w5.jpg</td>\n    </tr>\n    <tr>\n      <th>154</th>\n      <td>22</td>\n      <td>w6.jpg</td>\n    </tr>\n    <tr>\n      <th>155</th>\n      <td>23</td>\n      <td>x1.jpg</td>\n    </tr>\n    <tr>\n      <th>156</th>\n      <td>23</td>\n      <td>x2.jpg</td>\n    </tr>\n    <tr>\n      <th>157</th>\n      <td>23</td>\n      <td>x3.jpg</td>\n    </tr>\n    <tr>\n      <th>158</th>\n      <td>24</td>\n      <td>y1.jpg</td>\n    </tr>\n    <tr>\n      <th>159</th>\n      <td>24</td>\n      <td>y2.jpg</td>\n    </tr>\n    <tr>\n      <th>160</th>\n      <td>24</td>\n      <td>y3.jpg</td>\n    </tr>\n    <tr>\n      <th>161</th>\n      <td>24</td>\n      <td>y4.jpg</td>\n    </tr>\n    <tr>\n      <th>162</th>\n      <td>25</td>\n      <td>z1.jpg</td>\n    </tr>\n    <tr>\n      <th>163</th>\n      <td>25</td>\n      <td>z2.jpg</td>\n    </tr>\n    <tr>\n      <th>164</th>\n      <td>25</td>\n      <td>z3.jpg</td>\n    </tr>\n    <tr>\n      <th>165</th>\n      <td>25</td>\n      <td>z4.jpg</td>\n    </tr>\n    <tr>\n      <th>166</th>\n      <td>25</td>\n      <td>z5.jpg</td>\n    </tr>\n  </tbody>\n</table>\n<p>166 rows \u00d7 2 columns</p>\n</div>",
                        "text/plain": "     label    path\n0        0  a1.jpg\n1        0  a2.jpg\n2        0  a3.jpg\n3        0  a4.jpg\n4        0  a5.jpg\n5        0  a6.jpg\n7        1  b1.jpg\n8        1  b2.jpg\n9        1  b3.jpg\n10       1  b4.jpg\n11       1  b5.jpg\n12       1  b6.jpg\n13       1  b7.jpg\n14       2  c1.jpg\n15       2  c2.jpg\n16       2  c3.jpg\n17       2  c4.jpg\n18       2  c5.jpg\n19       2  c6.jpg\n20       2  c7.jpg\n21       2  c8.jpg\n22       3  d1.jpg\n23       3  d2.jpg\n24       3  d3.jpg\n25       3  d4.jpg\n26       3  d5.jpg\n27       3  d6.jpg\n28       3  d7.jpg\n29       4  e1.jpg\n30       4  e2.jpg\n..     ...     ...\n137     19  t4.jpg\n138     19  t5.jpg\n139     19  t6.jpg\n140     20  u1.jpg\n141     20  u2.jpg\n142     20  u3.jpg\n143     20  u4.jpg\n144     21  v1.jpg\n145     21  v2.jpg\n146     21  v3.jpg\n147     21  v4.jpg\n148     21  v5.jpg\n149     22  w1.jpg\n150     22  w2.jpg\n151     22  w3.jpg\n152     22  w4.jpg\n153     22  w5.jpg\n154     22  w6.jpg\n155     23  x1.jpg\n156     23  x2.jpg\n157     23  x3.jpg\n158     24  y1.jpg\n159     24  y2.jpg\n160     24  y3.jpg\n161     24  y4.jpg\n162     25  z1.jpg\n163     25  z2.jpg\n164     25  z3.jpg\n165     25  z4.jpg\n166     25  z5.jpg\n\n[166 rows x 2 columns]"
                    },
                    "execution_count": 35,
                    "metadata": {},
                    "output_type": "execute_result"
                }
            ],
            "source": "\ndf[df.path != 'a7.jpg']"
        },
        {
            "cell_type": "code",
            "execution_count": 36,
            "metadata": {},
            "outputs": [
                {
                    "data": {
                        "text/plain": "['j3.jpg',\n 'e6.jpg',\n 'p7.jpg',\n 'r5.jpg',\n 'b2.jpg',\n 'q2.jpg',\n 'o1.jpg',\n 'q3.jpg',\n 'b5.jpg',\n 'u3.jpg',\n 'o7.jpg',\n 'h3.jpg',\n 's5.jpg',\n 'r2.jpg',\n 'q6.jpg',\n 'c8.jpg',\n 'b6.jpg',\n 'g2.jpg',\n 'h1.jpg',\n 'r1.jpg',\n 'k7.jpg',\n 'f7.jpg',\n 'o4.jpg',\n 'a5.jpg',\n 'c5.jpg',\n 'q5.jpg',\n 'n4.jpg',\n 'i3.jpg',\n 'p4.jpg',\n 's2.jpg',\n 'z4.jpg',\n 'z5.jpg',\n 'l1.jpg',\n 'g3.jpg',\n 'i6.jpg',\n 'e2.jpg',\n 'e7.jpg',\n 'h7.jpg',\n 'o6.jpg',\n 'm2.jpg',\n 'm6.jpg',\n 'h5.jpg',\n 'w3.jpg',\n 'f3.jpg',\n 'a7.jpg',\n 't3.jpg',\n 'g5.jpg',\n 'n2.jpg',\n 'h6.jpg',\n 'k2.jpg',\n 'y1.jpg',\n 'r6.jpg',\n 'v5.jpg',\n 'x2.jpg',\n 'c1.jpg',\n 'h4.jpg',\n 'f1.jpg',\n 'b3.jpg',\n 'g7.jpg',\n 'e4.jpg',\n 'w5.jpg',\n 'p3.jpg',\n 'o5.jpg',\n 'y3.jpg',\n 'l5.jpg',\n 'h2.jpg',\n 'j2.jpg',\n 'j7.jpg',\n 'l3.jpg',\n 'm4.jpg',\n 'm3.jpg',\n 'v1.jpg',\n 'k4.jpg',\n 'd3.jpg',\n 'b4.jpg',\n 'i5.jpg',\n 'd4.jpg',\n 'n5.jpg',\n 'z3.jpg',\n 'e1.jpg',\n 'k6.jpg',\n 'l6.jpg',\n 'c7.jpg',\n 'r3.jpg',\n 'a3.jpg',\n 't2.jpg',\n 'n3.jpg',\n 'q1.jpg',\n 'j1.jpg',\n 'l7.jpg',\n 'v3.jpg',\n 'd1.jpg',\n 'w6.jpg',\n 'z2.jpg',\n 'k5.jpg',\n 'y2.jpg',\n 'x3.jpg',\n 'e3.jpg',\n 'f4.jpg',\n 'b7.jpg',\n 'w1.jpg',\n 'w4.jpg',\n 'g6.jpg',\n 'c2.jpg',\n 'n7.jpg',\n 'a4.jpg',\n 'a2.jpg',\n 'd2.jpg',\n 'g4.jpg',\n 'a6.jpg',\n 'n6.jpg',\n 'r7.jpg',\n 'f8.jpg',\n 'p6.jpg',\n 'j6.jpg',\n 'd5.jpg',\n 'j8.jpg',\n 's6.jpg',\n 'v2.jpg',\n 'i1.jpg',\n 'j5.jpg',\n 'u4.jpg',\n 'i4.jpg',\n 'u2.jpg',\n 'l4.jpg',\n 'p2.jpg',\n 'b1.jpg',\n 'y4.jpg',\n 'c4.jpg',\n 'v4.jpg',\n 'd6.jpg',\n 'd7.jpg',\n 's3.jpg',\n 'c3.jpg',\n 'k3.jpg',\n 'f6.jpg',\n 'c6.jpg',\n 'i2.jpg',\n 'e5.jpg',\n 'm1.jpg',\n 'i7.jpg',\n 'n1.jpg',\n 'w2.jpg',\n 'g1.jpg',\n 'p5.jpg',\n 'q4.jpg',\n 't1.jpg',\n 'k1.jpg',\n 'z1.jpg',\n 'x1.jpg',\n 'u1.jpg',\n 'o3.jpg',\n 'f5.jpg',\n 'r4.jpg',\n 'm7.jpg',\n 'o2.jpg',\n 'm5.jpg',\n 't6.jpg',\n 's1.jpg',\n 'a1.jpg',\n 't4.jpg',\n 'f2.jpg',\n 't5.jpg',\n 'p1.jpg',\n 'j4.jpg',\n 'l2.jpg',\n 's4.jpg']"
                    },
                    "execution_count": 36,
                    "metadata": {},
                    "output_type": "execute_result"
                }
            ],
            "source": "import os\nos.listdir(\"images/images\")"
        },
        {
            "cell_type": "code",
            "execution_count": 37,
            "metadata": {},
            "outputs": [
                {
                    "data": {
                        "text/plain": "<matplotlib.image.AxesImage at 0x7f9c294c7400>"
                    },
                    "execution_count": 37,
                    "metadata": {},
                    "output_type": "execute_result"
                },
                {
                    "data": {
                        "image/png": "[encoded data removed]",
                        "text/plain": "<Figure size 432x288 with 1 Axes>"
                    },
                    "metadata": {
                        "needs_background": "light"
                    },
                    "output_type": "display_data"
                }
            ],
            "source": "import matplotlib.pyplot as plt\nimport matplotlib.image as mpimg\n\nimg = mpimg.imread('images/images/a1.jpg')\n\nplt.imshow(img, cmap='gray')"
        },
        {
            "cell_type": "code",
            "execution_count": 38,
            "metadata": {},
            "outputs": [],
            "source": "\nimage_path = df[\"path\"].tolist()"
        },
        {
            "cell_type": "code",
            "execution_count": 39,
            "metadata": {},
            "outputs": [
                {
                    "ename": "AttributeError",
                    "evalue": "'ZipFile' object has no attribute 'load_img'",
                    "output_type": "error",
                    "traceback": [
                        "\u001b[0;31m---------------------------------------------------------------------------\u001b[0m",
                        "\u001b[0;31mAttributeError\u001b[0m                            Traceback (most recent call last)",
                        "\u001b[0;32m<ipython-input-39-134bd1ae49f0>\u001b[0m in \u001b[0;36m<module>\u001b[0;34m\u001b[0m\n\u001b[1;32m      1\u001b[0m \u001b[0mtrain_image\u001b[0m \u001b[0;34m=\u001b[0m \u001b[0;34m[\u001b[0m\u001b[0;34m]\u001b[0m\u001b[0;34m\u001b[0m\u001b[0;34m\u001b[0m\u001b[0m\n\u001b[1;32m      2\u001b[0m \u001b[0;32mfor\u001b[0m \u001b[0mimage_name\u001b[0m \u001b[0;32min\u001b[0m \u001b[0mimage_path\u001b[0m\u001b[0;34m:\u001b[0m\u001b[0;34m\u001b[0m\u001b[0;34m\u001b[0m\u001b[0m\n\u001b[0;32m----> 3\u001b[0;31m     \u001b[0mimg\u001b[0m \u001b[0;34m=\u001b[0m \u001b[0mimage\u001b[0m\u001b[0;34m.\u001b[0m\u001b[0mload_img\u001b[0m\u001b[0;34m(\u001b[0m\u001b[0;34m'images/images/'\u001b[0m\u001b[0;34m+\u001b[0m\u001b[0mimage_name\u001b[0m\u001b[0;34m,\u001b[0m \u001b[0mtarget_size\u001b[0m\u001b[0;34m=\u001b[0m\u001b[0;34m(\u001b[0m\u001b[0;36m28\u001b[0m\u001b[0;34m,\u001b[0m\u001b[0;36m28\u001b[0m\u001b[0;34m,\u001b[0m\u001b[0;36m1\u001b[0m\u001b[0;34m)\u001b[0m\u001b[0;34m,\u001b[0m \u001b[0mgrayscale\u001b[0m\u001b[0;34m=\u001b[0m\u001b[0;32mTrue\u001b[0m\u001b[0;34m)\u001b[0m\u001b[0;34m\u001b[0m\u001b[0;34m\u001b[0m\u001b[0m\n\u001b[0m\u001b[1;32m      4\u001b[0m     \u001b[0mimg\u001b[0m \u001b[0;34m=\u001b[0m \u001b[0mimage\u001b[0m\u001b[0;34m.\u001b[0m\u001b[0mimg_to_array\u001b[0m\u001b[0;34m(\u001b[0m\u001b[0mimg\u001b[0m\u001b[0;34m)\u001b[0m\u001b[0;34m\u001b[0m\u001b[0;34m\u001b[0m\u001b[0m\n\u001b[1;32m      5\u001b[0m     \u001b[0mimg\u001b[0m \u001b[0;34m=\u001b[0m \u001b[0mimg\u001b[0m\u001b[0;34m/\u001b[0m\u001b[0;36m255\u001b[0m \u001b[0;31m# Normalization\u001b[0m\u001b[0;34m\u001b[0m\u001b[0;34m\u001b[0m\u001b[0m\n",
                        "\u001b[0;31mAttributeError\u001b[0m: 'ZipFile' object has no attribute 'load_img'"
                    ]
                }
            ],
            "source": "train_image = []\nfor image_name in image_path:\n    img = image.load_img('images/images/'+image_name, target_size=(28,28,1), grayscale=True)\n    img = image.img_to_array(img)\n    img = img/255 # Normalization\n    train_image.append(img)\nX = np.array(train_image)"
        },
        {
            "cell_type": "code",
            "execution_count": null,
            "metadata": {},
            "outputs": [],
            "source": "y = df['label'].values"
        },
        {
            "cell_type": "code",
            "execution_count": null,
            "metadata": {},
            "outputs": [],
            "source": "X_train, X_test, y_train, y_test = train_test_split(X, y, random_state=42, test_size=0.2)"
        },
        {
            "cell_type": "code",
            "execution_count": null,
            "metadata": {},
            "outputs": [],
            "source": "model = Sequential()\nmodel.add(Conv2D(32, kernel_size=(3, 3),activation='relu',input_shape=(28,28,1)))\nmodel.add(Conv2D(64, (3, 3), activation='relu'))\nmodel.add(MaxPooling2D(pool_size=(2, 2)))\nmodel.add(Dropout(0.25))\nmodel.add(Flatten())\nmodel.add(Dense(128, activation='relu'))\nmodel.add(Dropout(0.5))\nmodel.add(Dense(26, activation='softmax'))"
        },
        {
            "cell_type": "code",
            "execution_count": null,
            "metadata": {},
            "outputs": [],
            "source": "model.compile(loss='sparse_categorical_crossentropy',optimizer='Adam',metrics=['accuracy'])"
        },
        {
            "cell_type": "code",
            "execution_count": null,
            "metadata": {},
            "outputs": [],
            "source": "model.fit(X_train, y_train, epochs=30, validation_data=(X_test, y_test))"
        },
        {
            "cell_type": "code",
            "execution_count": null,
            "metadata": {},
            "outputs": [],
            "source": "tf.compat.v1.enable_eager_execution()\n"
        },
        {
            "cell_type": "code",
            "execution_count": null,
            "metadata": {},
            "outputs": [],
            "source": "from sklearn.externals import joblib \n\njoblib.dump(model, 'character_reg.pkl')"
        },
        {
            "cell_type": "code",
            "execution_count": null,
            "metadata": {},
            "outputs": [],
            "source": "img = image.load_img('images/'+\"d7.jpg\", target_size=(28,28,1), grayscale=True)\nimg = image.img_to_array(img)\nimg = img/255\nmodel.predict_classes([[img]])"
        },
        {
            "cell_type": "code",
            "execution_count": null,
            "metadata": {},
            "outputs": [],
            "source": "plt.imshow(img, cmap=plt.get_cmap('gray'))"
        }
    ],
    "metadata": {
        "kernelspec": {
            "display_name": "Python 3.6",
            "language": "python",
            "name": "python3"
        },
        "language_info": {
            "codemirror_mode": {
                "name": "ipython",
                "version": 3
            },
            "file_extension": ".py",
            "mimetype": "text/x-python",
            "name": "python",
            "nbconvert_exporter": "python",
            "pygments_lexer": "ipython3",
            "version": "3.6.8"
        }
    },
    "nbformat": 4,
    "nbformat_minor": 2
}