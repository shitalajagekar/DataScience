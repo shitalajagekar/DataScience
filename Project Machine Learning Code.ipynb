{
    "cells": [
        {
            "metadata": {},
            "cell_type": "markdown",
            "source": "# CHARACTER RECOGNITION#\n ### The aim of this project is to create online character recognition system. As new english learners or childrens who are in school and trying to write alphabate from A-Z  everytime techers may not available. By considering this into mind I am trying to create system that checks  whether the alphabets is  correct or wrong , so here I am creating online character recognition system. The database is created by using Canvas program which was written in HTML+Javascript language. The database contain 159 images of A-Z character. ###\n"
        },
        {
            "metadata": {},
            "cell_type": "markdown",
            "source": "#     Creating own database using Canvas. HTML + Javascript code of Canvas program is here:\n        \n##"
        },
        {
            "metadata": {},
            "cell_type": "code",
            "source": "<html>\n<head>\n<script src=\"https://ajax.googleapis.com/ajax/libs/jquery/3.4.1/jquery.min.js\"></script>\n<script src=\"http://cdn.jsdelivr.net/g/filesaver.js\"></script>\n</head>\n<body>\n\n<center>\n<button type=\"button\" onclick=\"save()\">Save</button>\n<input type=\"button\" value=\"clear\" id=\"clr\" size=\"23\" onclick=\"erase()\" style=\"position:absolute\">Clear</input>\n \n<!--drop down box for selected colors.-->\n<p>\n    <label>Color: <select id=\"selectedColor\">\n            <option value=\"Red\">Red</option>\n\t\t\t<option value=\"Black\">Balck</option>\n            <option value=\"Blue\">Blue</option>\n            <option value=\"Green\">Green</option>\n\t\t\t<option value=\"Aqua \">Aqua </option>\n\t\t\t<option value=\"Brown\">Brown</option>\n\t\t\t<option value=\"Chartreuse \"> Chartreuse </option>\n\t\t\t<option value=\"Cyan \">Cyan </option>\n\t\t\t<option value=\"Gray\">Gray</option>\n\t\t\t<option value=\"DarkMagenta \">DarkMagenta </option>\n\t\t\t<option value=\"DarkOrange \" >DarkOrange </option>\n\t\t\t<option value=\"DarkSalmon \" >DarkSalmon </option>\n\t\t\t<option value=\"DarkViolet  \" >DarkViolet  </option>\n\t\t\t<option value=\"Indigo\" >Indigo   </option>\n\t\t\t<option value=\"LawnGreen  \" >LawnGreen  </option>\n\t\t\t<option value=\"LightCoral  \" >LightCoral  </option>\n\t\t\t<option value=\"Yellow\" >Yellow </option>\n\t\t\t<option value=\"Orchid\">Orchid </option>\n\t\t\t<option value=\"SandyBrown\"> SandyBrown </option>\n    </select></label>\n</p>\n<!--drop down box for selected drawing tools-->\n<p>\n    <label>Stitching Tool: <select id=\"selectedTool\">\n            <option value=\"crayon\">crayon</option>\n            <option value=\"pencil\">Pencil</option>\n           \n    </select></label>\n</p>\n\n<div style=\"background-color: #c1f0c1;width:500px;height:500px\">\n<canvas id=\"canvas\" width=\"500\" height=\"500\"></canvas>\n</div>\n</center>\n<script>\ncontext = document.getElementById('canvas').getContext(\"2d\");\ncanvas = document.getElementById('canvas');\n        w = canvas.width;\n        h = canvas.height; \n\t\t\n$('#canvas').mousedown(function(e){\n  var mouseX = e.pageX - this.offsetLeft;\n  var mouseY = e.pageY - this.offsetTop;\n  var colorvar=\"Black\";\t\n\tvar tool=\"pencil\";\n  paint = true;\n  addClick(e.pageX - this.offsetLeft, e.pageY - this.offsetTop);\n  redraw();\n});\n$('#canvas').mousemove(function(e){\n  if(paint){\n    addClick(e.pageX - this.offsetLeft, e.pageY - this.offsetTop, true);\n\taddcolor();\n    redraw();\n  }\n});\n$('#canvas').mouseup(function(e){\n  paint = false;\n});\n$('#canvas').mouseleave(function(e){\n  paint = false;\n});\nvar clickX = new Array();\nvar clickY = new Array();\nvar clickDrag = new Array();\nvar paint;\nfunction addClick(x, y, dragging)\n{\n  clickX.push(x);\n  clickY.push(y);\n  clickDrag.push(dragging);\n}\nfunction redraw(){\n  context.clearRect(0, 0, context.canvas.width, context.canvas.height); // Clears the canvas\n  \n  addcolor()\n  <!-- context.strokeStyle = \"#df4b26\";-->\n  context.lineJoin = \"round\";\n  context.lineWidth = 5;\n\t\t\t\n  for(var i=0; i < clickX.length; i++) {\t\t\n    context.beginPath();\n    if(clickDrag[i] && i){\n      context.moveTo(clickX[i-1], clickY[i-1]);\n     }else{\n       context.moveTo(clickX[i]-1, clickY[i]);\n     }\n     context.lineTo(clickX[i], clickY[i]);\n\t context.closePath();\n     context.stroke();\n  }\n}\nfunction addcolor() {\n\tvar colorobj = document.getElementById('selectedColor').value;\n        switch (colorobj) {\n            case \"Green\":\n                colorvar = \"Green\";\n                break;\n            case \"Blue\":\n                colorvar = \"Blue\";\n                break;\n            case \"Red\":\n                colorvar = \"Red\";\n                break;\n            case \"Yellow\":\n                colorvar = \"Yellow\";\n                break;\n                    \n            case \"Aqua\":\n                colorvar = \"Aqua\";\n                break;\n\t\t\tcase \"Brown\":\n                colorvar = \"Brown\";\n                break;\n\t\t\t\n\t\t\tcase \"Cyan \":\n                colorvar= \"Cyan \";\n                break;\n\t\t\tcase \"Gray\":\n                colorvar= \"Gray\";\n                break;\n\t\t\t\t\t\t\n\t\t\tcase \"DarkViolet  \":\n                colorvar= \"DarkViolet  \";\n                break;\n\t\t\t\n\t\t\tcase \"LawnGreen  \":\n                colorvar = \"LawnGreen  \";\n                break;\n\t\t\tcase \"LightCoral  \":\n                colorvar = \"LightCoral  \";\n                break;\n\t\t\tcase \"Yellow \":\n                colorvar= \"Yellow \";\n                break;\n\t\t\t\n        }\n\t\tcontext.strokeStyle = colorvar;\n            \n    }\n\n\n\nfunction save() {\n  var canvas = document.getElementById(\"canvas\");\n  var data = canvas.toDataURL();\n   console.log(data);\n   \n   console.log(\"shitaal\");\n  <!--  var blob = new Blob([data],{type:\"image/png\", encoding: 'utf-8'});-->\n    <!-- saveAs(blob,\"m.png\"); -->\n\t\n}\n\nfunction erase(){\n\n   context.clearRect(0, 0, context.canvas.width, context.canvas.height);\n  \n  \n}\n</script>\n</body>\n</html>",
            "execution_count": null,
            "outputs": []
        },
        {
            "metadata": {},
            "cell_type": "code",
            "source": "",
            "execution_count": null,
            "outputs": []
        },
        {
            "metadata": {},
            "cell_type": "code",
            "source": "",
            "execution_count": null,
            "outputs": []
        },
        {
            "metadata": {},
            "cell_type": "markdown",
            "source": "# Importing  labraries#"
        },
        {
            "metadata": {},
            "cell_type": "code",
            "source": "import keras\nimport tensorflow as tf\nfrom tensorflow.keras.models import Sequential\nfrom tensorflow.keras.layers import Dense, Dropout, Flatten\nfrom tensorflow.keras.layers import Conv2D, MaxPooling2D\nfrom tensorflow.keras.utils import to_categorical\n\nimport numpy as np\nimport pandas as pd\n\nimport matplotlib.pyplot as plt\nfrom sklearn.model_selection import train_test_split\nfrom tensorflow.keras.utils import to_categorical\nfrom tqdm import tqdm",
            "execution_count": 15,
            "outputs": []
        },
        {
            "metadata": {},
            "cell_type": "code",
            "source": "tf.compat.v1.enable_eager_execution()",
            "execution_count": 16,
            "outputs": []
        },
        {
            "metadata": {},
            "cell_type": "markdown",
            "source": "# Importing created image database for next processing from github    #"
        },
        {
            "metadata": {},
            "cell_type": "code",
            "source": "!wget -O imagedata.csv https://raw.githubusercontent.com/shitalajagekar/DataScience/master/imagedata.csv",
            "execution_count": 17,
            "outputs": [
                {
                    "output_type": "stream",
                    "text": "--2020-04-26 13:10:08--  https://raw.githubusercontent.com/shitalajagekar/DataScience/master/imagedata.csv\nResolving raw.githubusercontent.com (raw.githubusercontent.com)... 199.232.8.133\nConnecting to raw.githubusercontent.com (raw.githubusercontent.com)|199.232.8.133|:443... connected.\nHTTP request sent, awaiting response... 200 OK\nLength: 1776 (1.7K) [text/plain]\nSaving to: \u2018imagedata.csv\u2019\n\n100%[======================================>] 1,776       --.-K/s   in 0s      \n\n2020-04-26 13:10:08 (16.7 MB/s) - \u2018imagedata.csv\u2019 saved [1776/1776]\n\n",
                    "name": "stdout"
                }
            ]
        },
        {
            "metadata": {},
            "cell_type": "code",
            "source": "!wget -O images.zip https://raw.githubusercontent.com/shitalajagekar/DataScience/master/images.zip",
            "execution_count": 18,
            "outputs": [
                {
                    "output_type": "stream",
                    "text": "--2020-04-26 13:10:10--  https://raw.githubusercontent.com/shitalajagekar/DataScience/master/images.zip\nResolving raw.githubusercontent.com (raw.githubusercontent.com)... 151.101.48.133\nConnecting to raw.githubusercontent.com (raw.githubusercontent.com)|151.101.48.133|:443... connected.\nHTTP request sent, awaiting response... 200 OK\nLength: 1828109 (1.7M) [application/zip]\nSaving to: \u2018images.zip\u2019\n\n100%[======================================>] 1,828,109   --.-K/s   in 0.06s   \n\n2020-04-26 13:10:10 (29.5 MB/s) - \u2018images.zip\u2019 saved [1828109/1828109]\n\n",
                    "name": "stdout"
                }
            ]
        },
        {
            "metadata": {},
            "cell_type": "code",
            "source": "from zipfile import ZipFile\n'''\n    extracting the image zip file\n'''\nimage = ZipFile('images.zip')\nimage.extractall('images')\n",
            "execution_count": 19,
            "outputs": []
        },
        {
            "metadata": {},
            "cell_type": "code",
            "source": "!ls \n'''\nchecking available list of files\n    '''",
            "execution_count": 20,
            "outputs": [
                {
                    "output_type": "stream",
                    "text": "imagedata.csv  images  images.zip\r\n",
                    "name": "stdout"
                },
                {
                    "output_type": "execute_result",
                    "execution_count": 20,
                    "data": {
                        "text/plain": "'\\nchecking available list of files\\n    '"
                    },
                    "metadata": {}
                }
            ]
        },
        {
            "metadata": {},
            "cell_type": "code",
            "source": "import pandas as pd\n'''\n    storing the image data into dataframe df\n'''\ndf=pd.read_csv(\"imagedata.csv\")\n\n",
            "execution_count": 21,
            "outputs": []
        },
        {
            "metadata": {},
            "cell_type": "code",
            "source": "df.head()",
            "execution_count": 22,
            "outputs": [
                {
                    "output_type": "execute_result",
                    "execution_count": 22,
                    "data": {
                        "text/plain": "   label    path\n0      0  a1.jpg\n1      0  a2.jpg\n2      0  a3.jpg\n3      0  a4.jpg\n4      0  a5.jpg",
                        "text/html": "<div>\n<style scoped>\n    .dataframe tbody tr th:only-of-type {\n        vertical-align: middle;\n    }\n\n    .dataframe tbody tr th {\n        vertical-align: top;\n    }\n\n    .dataframe thead th {\n        text-align: right;\n    }\n</style>\n<table border=\"1\" class=\"dataframe\">\n  <thead>\n    <tr style=\"text-align: right;\">\n      <th></th>\n      <th>label</th>\n      <th>path</th>\n    </tr>\n  </thead>\n  <tbody>\n    <tr>\n      <th>0</th>\n      <td>0</td>\n      <td>a1.jpg</td>\n    </tr>\n    <tr>\n      <th>1</th>\n      <td>0</td>\n      <td>a2.jpg</td>\n    </tr>\n    <tr>\n      <th>2</th>\n      <td>0</td>\n      <td>a3.jpg</td>\n    </tr>\n    <tr>\n      <th>3</th>\n      <td>0</td>\n      <td>a4.jpg</td>\n    </tr>\n    <tr>\n      <th>4</th>\n      <td>0</td>\n      <td>a5.jpg</td>\n    </tr>\n  </tbody>\n</table>\n</div>"
                    },
                    "metadata": {}
                }
            ]
        },
        {
            "metadata": {},
            "cell_type": "code",
            "source": "\ndf[df.path != 'a7.jpg']",
            "execution_count": 23,
            "outputs": [
                {
                    "output_type": "execute_result",
                    "execution_count": 23,
                    "data": {
                        "text/plain": "     label    path\n0        0  a1.jpg\n1        0  a2.jpg\n2        0  a3.jpg\n3        0  a4.jpg\n4        0  a5.jpg\n5        0  a6.jpg\n7        1  b1.jpg\n8        1  b2.jpg\n9        1  b3.jpg\n10       1  b4.jpg\n11       1  b5.jpg\n12       1  b6.jpg\n13       1  b7.jpg\n14       2  c1.jpg\n15       2  c2.jpg\n16       2  c3.jpg\n17       2  c4.jpg\n18       2  c5.jpg\n19       2  c6.jpg\n20       2  c7.jpg\n21       2  c8.jpg\n22       3  d1.jpg\n23       3  d2.jpg\n24       3  d3.jpg\n25       3  d4.jpg\n26       3  d5.jpg\n27       3  d6.jpg\n28       3  d7.jpg\n29       4  e1.jpg\n30       4  e2.jpg\n..     ...     ...\n137     19  t4.jpg\n138     19  t5.jpg\n139     19  t6.jpg\n140     20  u1.jpg\n141     20  u2.jpg\n142     20  u3.jpg\n143     20  u4.jpg\n144     21  v1.jpg\n145     21  v2.jpg\n146     21  v3.jpg\n147     21  v4.jpg\n148     21  v5.jpg\n149     22  w1.jpg\n150     22  w2.jpg\n151     22  w3.jpg\n152     22  w4.jpg\n153     22  w5.jpg\n154     22  w6.jpg\n155     23  x1.jpg\n156     23  x2.jpg\n157     23  x3.jpg\n158     24  y1.jpg\n159     24  y2.jpg\n160     24  y3.jpg\n161     24  y4.jpg\n162     25  z1.jpg\n163     25  z2.jpg\n164     25  z3.jpg\n165     25  z4.jpg\n166     25  z5.jpg\n\n[166 rows x 2 columns]",
                        "text/html": "<div>\n<style scoped>\n    .dataframe tbody tr th:only-of-type {\n        vertical-align: middle;\n    }\n\n    .dataframe tbody tr th {\n        vertical-align: top;\n    }\n\n    .dataframe thead th {\n        text-align: right;\n    }\n</style>\n<table border=\"1\" class=\"dataframe\">\n  <thead>\n    <tr style=\"text-align: right;\">\n      <th></th>\n      <th>label</th>\n      <th>path</th>\n    </tr>\n  </thead>\n  <tbody>\n    <tr>\n      <th>0</th>\n      <td>0</td>\n      <td>a1.jpg</td>\n    </tr>\n    <tr>\n      <th>1</th>\n      <td>0</td>\n      <td>a2.jpg</td>\n    </tr>\n    <tr>\n      <th>2</th>\n      <td>0</td>\n      <td>a3.jpg</td>\n    </tr>\n    <tr>\n      <th>3</th>\n      <td>0</td>\n      <td>a4.jpg</td>\n    </tr>\n    <tr>\n      <th>4</th>\n      <td>0</td>\n      <td>a5.jpg</td>\n    </tr>\n    <tr>\n      <th>5</th>\n      <td>0</td>\n      <td>a6.jpg</td>\n    </tr>\n    <tr>\n      <th>7</th>\n      <td>1</td>\n      <td>b1.jpg</td>\n    </tr>\n    <tr>\n      <th>8</th>\n      <td>1</td>\n      <td>b2.jpg</td>\n    </tr>\n    <tr>\n      <th>9</th>\n      <td>1</td>\n      <td>b3.jpg</td>\n    </tr>\n    <tr>\n      <th>10</th>\n      <td>1</td>\n      <td>b4.jpg</td>\n    </tr>\n    <tr>\n      <th>11</th>\n      <td>1</td>\n      <td>b5.jpg</td>\n    </tr>\n    <tr>\n      <th>12</th>\n      <td>1</td>\n      <td>b6.jpg</td>\n    </tr>\n    <tr>\n      <th>13</th>\n      <td>1</td>\n      <td>b7.jpg</td>\n    </tr>\n    <tr>\n      <th>14</th>\n      <td>2</td>\n      <td>c1.jpg</td>\n    </tr>\n    <tr>\n      <th>15</th>\n      <td>2</td>\n      <td>c2.jpg</td>\n    </tr>\n    <tr>\n      <th>16</th>\n      <td>2</td>\n      <td>c3.jpg</td>\n    </tr>\n    <tr>\n      <th>17</th>\n      <td>2</td>\n      <td>c4.jpg</td>\n    </tr>\n    <tr>\n      <th>18</th>\n      <td>2</td>\n      <td>c5.jpg</td>\n    </tr>\n    <tr>\n      <th>19</th>\n      <td>2</td>\n      <td>c6.jpg</td>\n    </tr>\n    <tr>\n      <th>20</th>\n      <td>2</td>\n      <td>c7.jpg</td>\n    </tr>\n    <tr>\n      <th>21</th>\n      <td>2</td>\n      <td>c8.jpg</td>\n    </tr>\n    <tr>\n      <th>22</th>\n      <td>3</td>\n      <td>d1.jpg</td>\n    </tr>\n    <tr>\n      <th>23</th>\n      <td>3</td>\n      <td>d2.jpg</td>\n    </tr>\n    <tr>\n      <th>24</th>\n      <td>3</td>\n      <td>d3.jpg</td>\n    </tr>\n    <tr>\n      <th>25</th>\n      <td>3</td>\n      <td>d4.jpg</td>\n    </tr>\n    <tr>\n      <th>26</th>\n      <td>3</td>\n      <td>d5.jpg</td>\n    </tr>\n    <tr>\n      <th>27</th>\n      <td>3</td>\n      <td>d6.jpg</td>\n    </tr>\n    <tr>\n      <th>28</th>\n      <td>3</td>\n      <td>d7.jpg</td>\n    </tr>\n    <tr>\n      <th>29</th>\n      <td>4</td>\n      <td>e1.jpg</td>\n    </tr>\n    <tr>\n      <th>30</th>\n      <td>4</td>\n      <td>e2.jpg</td>\n    </tr>\n    <tr>\n      <th>...</th>\n      <td>...</td>\n      <td>...</td>\n    </tr>\n    <tr>\n      <th>137</th>\n      <td>19</td>\n      <td>t4.jpg</td>\n    </tr>\n    <tr>\n      <th>138</th>\n      <td>19</td>\n      <td>t5.jpg</td>\n    </tr>\n    <tr>\n      <th>139</th>\n      <td>19</td>\n      <td>t6.jpg</td>\n    </tr>\n    <tr>\n      <th>140</th>\n      <td>20</td>\n      <td>u1.jpg</td>\n    </tr>\n    <tr>\n      <th>141</th>\n      <td>20</td>\n      <td>u2.jpg</td>\n    </tr>\n    <tr>\n      <th>142</th>\n      <td>20</td>\n      <td>u3.jpg</td>\n    </tr>\n    <tr>\n      <th>143</th>\n      <td>20</td>\n      <td>u4.jpg</td>\n    </tr>\n    <tr>\n      <th>144</th>\n      <td>21</td>\n      <td>v1.jpg</td>\n    </tr>\n    <tr>\n      <th>145</th>\n      <td>21</td>\n      <td>v2.jpg</td>\n    </tr>\n    <tr>\n      <th>146</th>\n      <td>21</td>\n      <td>v3.jpg</td>\n    </tr>\n    <tr>\n      <th>147</th>\n      <td>21</td>\n      <td>v4.jpg</td>\n    </tr>\n    <tr>\n      <th>148</th>\n      <td>21</td>\n      <td>v5.jpg</td>\n    </tr>\n    <tr>\n      <th>149</th>\n      <td>22</td>\n      <td>w1.jpg</td>\n    </tr>\n    <tr>\n      <th>150</th>\n      <td>22</td>\n      <td>w2.jpg</td>\n    </tr>\n    <tr>\n      <th>151</th>\n      <td>22</td>\n      <td>w3.jpg</td>\n    </tr>\n    <tr>\n      <th>152</th>\n      <td>22</td>\n      <td>w4.jpg</td>\n    </tr>\n    <tr>\n      <th>153</th>\n      <td>22</td>\n      <td>w5.jpg</td>\n    </tr>\n    <tr>\n      <th>154</th>\n      <td>22</td>\n      <td>w6.jpg</td>\n    </tr>\n    <tr>\n      <th>155</th>\n      <td>23</td>\n      <td>x1.jpg</td>\n    </tr>\n    <tr>\n      <th>156</th>\n      <td>23</td>\n      <td>x2.jpg</td>\n    </tr>\n    <tr>\n      <th>157</th>\n      <td>23</td>\n      <td>x3.jpg</td>\n    </tr>\n    <tr>\n      <th>158</th>\n      <td>24</td>\n      <td>y1.jpg</td>\n    </tr>\n    <tr>\n      <th>159</th>\n      <td>24</td>\n      <td>y2.jpg</td>\n    </tr>\n    <tr>\n      <th>160</th>\n      <td>24</td>\n      <td>y3.jpg</td>\n    </tr>\n    <tr>\n      <th>161</th>\n      <td>24</td>\n      <td>y4.jpg</td>\n    </tr>\n    <tr>\n      <th>162</th>\n      <td>25</td>\n      <td>z1.jpg</td>\n    </tr>\n    <tr>\n      <th>163</th>\n      <td>25</td>\n      <td>z2.jpg</td>\n    </tr>\n    <tr>\n      <th>164</th>\n      <td>25</td>\n      <td>z3.jpg</td>\n    </tr>\n    <tr>\n      <th>165</th>\n      <td>25</td>\n      <td>z4.jpg</td>\n    </tr>\n    <tr>\n      <th>166</th>\n      <td>25</td>\n      <td>z5.jpg</td>\n    </tr>\n  </tbody>\n</table>\n<p>166 rows \u00d7 2 columns</p>\n</div>"
                    },
                    "metadata": {}
                }
            ]
        },
        {
            "metadata": {},
            "cell_type": "code",
            "source": "ind=[]\nid=0\nfor i in df['label']:\n    ind.append(id)\n    id=id+1\n    \ndf['Index']=ind",
            "execution_count": 24,
            "outputs": []
        },
        {
            "metadata": {},
            "cell_type": "code",
            "source": "df.head(50)",
            "execution_count": 40,
            "outputs": [
                {
                    "output_type": "execute_result",
                    "execution_count": 40,
                    "data": {
                        "text/plain": "    label    path  Index\n0       0  a1.jpg      0\n1       0  a2.jpg      1\n2       0  a3.jpg      2\n3       0  a4.jpg      3\n4       0  a5.jpg      4\n5       0  a6.jpg      5\n6       0  a7.jpg      6\n7       1  b1.jpg      7\n8       1  b2.jpg      8\n9       1  b3.jpg      9\n10      1  b4.jpg     10\n11      1  b5.jpg     11\n12      1  b6.jpg     12\n13      1  b7.jpg     13\n14      2  c1.jpg     14\n15      2  c2.jpg     15\n16      2  c3.jpg     16\n17      2  c4.jpg     17\n18      2  c5.jpg     18\n19      2  c6.jpg     19\n20      2  c7.jpg     20\n21      2  c8.jpg     21\n22      3  d1.jpg     22\n23      3  d2.jpg     23\n24      3  d3.jpg     24\n25      3  d4.jpg     25\n26      3  d5.jpg     26\n27      3  d6.jpg     27\n28      3  d7.jpg     28\n29      4  e1.jpg     29\n30      4  e2.jpg     30\n31      4  e3.jpg     31\n32      4  e4.jpg     32\n33      4  e5.jpg     33\n34      4  e6.jpg     34\n35      4  e7.jpg     35\n36      5  f1.jpg     36\n37      5  f2.jpg     37\n38      5  f3.jpg     38\n39      5  f4.jpg     39\n40      5  f5.jpg     40\n41      5  f6.jpg     41\n42      5  f7.jpg     42\n43      5  f8.jpg     43\n44      6  g1.jpg     44\n45      6  g2.jpg     45\n46      6  g3.jpg     46\n47      6  g4.jpg     47\n48      6  g5.jpg     48\n49      6  g6.jpg     49",
                        "text/html": "<div>\n<style scoped>\n    .dataframe tbody tr th:only-of-type {\n        vertical-align: middle;\n    }\n\n    .dataframe tbody tr th {\n        vertical-align: top;\n    }\n\n    .dataframe thead th {\n        text-align: right;\n    }\n</style>\n<table border=\"1\" class=\"dataframe\">\n  <thead>\n    <tr style=\"text-align: right;\">\n      <th></th>\n      <th>label</th>\n      <th>path</th>\n      <th>Index</th>\n    </tr>\n  </thead>\n  <tbody>\n    <tr>\n      <th>0</th>\n      <td>0</td>\n      <td>a1.jpg</td>\n      <td>0</td>\n    </tr>\n    <tr>\n      <th>1</th>\n      <td>0</td>\n      <td>a2.jpg</td>\n      <td>1</td>\n    </tr>\n    <tr>\n      <th>2</th>\n      <td>0</td>\n      <td>a3.jpg</td>\n      <td>2</td>\n    </tr>\n    <tr>\n      <th>3</th>\n      <td>0</td>\n      <td>a4.jpg</td>\n      <td>3</td>\n    </tr>\n    <tr>\n      <th>4</th>\n      <td>0</td>\n      <td>a5.jpg</td>\n      <td>4</td>\n    </tr>\n    <tr>\n      <th>5</th>\n      <td>0</td>\n      <td>a6.jpg</td>\n      <td>5</td>\n    </tr>\n    <tr>\n      <th>6</th>\n      <td>0</td>\n      <td>a7.jpg</td>\n      <td>6</td>\n    </tr>\n    <tr>\n      <th>7</th>\n      <td>1</td>\n      <td>b1.jpg</td>\n      <td>7</td>\n    </tr>\n    <tr>\n      <th>8</th>\n      <td>1</td>\n      <td>b2.jpg</td>\n      <td>8</td>\n    </tr>\n    <tr>\n      <th>9</th>\n      <td>1</td>\n      <td>b3.jpg</td>\n      <td>9</td>\n    </tr>\n    <tr>\n      <th>10</th>\n      <td>1</td>\n      <td>b4.jpg</td>\n      <td>10</td>\n    </tr>\n    <tr>\n      <th>11</th>\n      <td>1</td>\n      <td>b5.jpg</td>\n      <td>11</td>\n    </tr>\n    <tr>\n      <th>12</th>\n      <td>1</td>\n      <td>b6.jpg</td>\n      <td>12</td>\n    </tr>\n    <tr>\n      <th>13</th>\n      <td>1</td>\n      <td>b7.jpg</td>\n      <td>13</td>\n    </tr>\n    <tr>\n      <th>14</th>\n      <td>2</td>\n      <td>c1.jpg</td>\n      <td>14</td>\n    </tr>\n    <tr>\n      <th>15</th>\n      <td>2</td>\n      <td>c2.jpg</td>\n      <td>15</td>\n    </tr>\n    <tr>\n      <th>16</th>\n      <td>2</td>\n      <td>c3.jpg</td>\n      <td>16</td>\n    </tr>\n    <tr>\n      <th>17</th>\n      <td>2</td>\n      <td>c4.jpg</td>\n      <td>17</td>\n    </tr>\n    <tr>\n      <th>18</th>\n      <td>2</td>\n      <td>c5.jpg</td>\n      <td>18</td>\n    </tr>\n    <tr>\n      <th>19</th>\n      <td>2</td>\n      <td>c6.jpg</td>\n      <td>19</td>\n    </tr>\n    <tr>\n      <th>20</th>\n      <td>2</td>\n      <td>c7.jpg</td>\n      <td>20</td>\n    </tr>\n    <tr>\n      <th>21</th>\n      <td>2</td>\n      <td>c8.jpg</td>\n      <td>21</td>\n    </tr>\n    <tr>\n      <th>22</th>\n      <td>3</td>\n      <td>d1.jpg</td>\n      <td>22</td>\n    </tr>\n    <tr>\n      <th>23</th>\n      <td>3</td>\n      <td>d2.jpg</td>\n      <td>23</td>\n    </tr>\n    <tr>\n      <th>24</th>\n      <td>3</td>\n      <td>d3.jpg</td>\n      <td>24</td>\n    </tr>\n    <tr>\n      <th>25</th>\n      <td>3</td>\n      <td>d4.jpg</td>\n      <td>25</td>\n    </tr>\n    <tr>\n      <th>26</th>\n      <td>3</td>\n      <td>d5.jpg</td>\n      <td>26</td>\n    </tr>\n    <tr>\n      <th>27</th>\n      <td>3</td>\n      <td>d6.jpg</td>\n      <td>27</td>\n    </tr>\n    <tr>\n      <th>28</th>\n      <td>3</td>\n      <td>d7.jpg</td>\n      <td>28</td>\n    </tr>\n    <tr>\n      <th>29</th>\n      <td>4</td>\n      <td>e1.jpg</td>\n      <td>29</td>\n    </tr>\n    <tr>\n      <th>30</th>\n      <td>4</td>\n      <td>e2.jpg</td>\n      <td>30</td>\n    </tr>\n    <tr>\n      <th>31</th>\n      <td>4</td>\n      <td>e3.jpg</td>\n      <td>31</td>\n    </tr>\n    <tr>\n      <th>32</th>\n      <td>4</td>\n      <td>e4.jpg</td>\n      <td>32</td>\n    </tr>\n    <tr>\n      <th>33</th>\n      <td>4</td>\n      <td>e5.jpg</td>\n      <td>33</td>\n    </tr>\n    <tr>\n      <th>34</th>\n      <td>4</td>\n      <td>e6.jpg</td>\n      <td>34</td>\n    </tr>\n    <tr>\n      <th>35</th>\n      <td>4</td>\n      <td>e7.jpg</td>\n      <td>35</td>\n    </tr>\n    <tr>\n      <th>36</th>\n      <td>5</td>\n      <td>f1.jpg</td>\n      <td>36</td>\n    </tr>\n    <tr>\n      <th>37</th>\n      <td>5</td>\n      <td>f2.jpg</td>\n      <td>37</td>\n    </tr>\n    <tr>\n      <th>38</th>\n      <td>5</td>\n      <td>f3.jpg</td>\n      <td>38</td>\n    </tr>\n    <tr>\n      <th>39</th>\n      <td>5</td>\n      <td>f4.jpg</td>\n      <td>39</td>\n    </tr>\n    <tr>\n      <th>40</th>\n      <td>5</td>\n      <td>f5.jpg</td>\n      <td>40</td>\n    </tr>\n    <tr>\n      <th>41</th>\n      <td>5</td>\n      <td>f6.jpg</td>\n      <td>41</td>\n    </tr>\n    <tr>\n      <th>42</th>\n      <td>5</td>\n      <td>f7.jpg</td>\n      <td>42</td>\n    </tr>\n    <tr>\n      <th>43</th>\n      <td>5</td>\n      <td>f8.jpg</td>\n      <td>43</td>\n    </tr>\n    <tr>\n      <th>44</th>\n      <td>6</td>\n      <td>g1.jpg</td>\n      <td>44</td>\n    </tr>\n    <tr>\n      <th>45</th>\n      <td>6</td>\n      <td>g2.jpg</td>\n      <td>45</td>\n    </tr>\n    <tr>\n      <th>46</th>\n      <td>6</td>\n      <td>g3.jpg</td>\n      <td>46</td>\n    </tr>\n    <tr>\n      <th>47</th>\n      <td>6</td>\n      <td>g4.jpg</td>\n      <td>47</td>\n    </tr>\n    <tr>\n      <th>48</th>\n      <td>6</td>\n      <td>g5.jpg</td>\n      <td>48</td>\n    </tr>\n    <tr>\n      <th>49</th>\n      <td>6</td>\n      <td>g6.jpg</td>\n      <td>49</td>\n    </tr>\n  </tbody>\n</table>\n</div>"
                    },
                    "metadata": {}
                }
            ]
        },
        {
            "metadata": {},
            "cell_type": "code",
            "source": "import os\nos.listdir(\"images/images\")",
            "execution_count": 26,
            "outputs": [
                {
                    "output_type": "execute_result",
                    "execution_count": 26,
                    "data": {
                        "text/plain": "['w3.jpg',\n 'c8.jpg',\n 'b5.jpg',\n 'j2.jpg',\n 'y3.jpg',\n 'j1.jpg',\n 'v4.jpg',\n 'w4.jpg',\n 'c4.jpg',\n 'v1.jpg',\n 'l5.jpg',\n 'n1.jpg',\n 'a5.jpg',\n 'h6.jpg',\n 'w6.jpg',\n 'u2.jpg',\n 'm2.jpg',\n 'a2.jpg',\n 'c3.jpg',\n 'i5.jpg',\n 'h4.jpg',\n 'q2.jpg',\n 'i3.jpg',\n 's3.jpg',\n 'b3.jpg',\n 'l6.jpg',\n 'l2.jpg',\n 'b2.jpg',\n 'o4.jpg',\n 'g5.jpg',\n 's5.jpg',\n 'f4.jpg',\n 'g2.jpg',\n 'j3.jpg',\n 'i2.jpg',\n 'b6.jpg',\n 'k5.jpg',\n 'h5.jpg',\n 'c6.jpg',\n 'g4.jpg',\n 'z3.jpg',\n 'w2.jpg',\n 'j6.jpg',\n 'm6.jpg',\n 'l4.jpg',\n 'u1.jpg',\n 't5.jpg',\n 'r7.jpg',\n 'j7.jpg',\n 'z2.jpg',\n 's2.jpg',\n 'j8.jpg',\n 'p1.jpg',\n 'i7.jpg',\n 'o7.jpg',\n 'r1.jpg',\n 'e1.jpg',\n 'h1.jpg',\n 'e5.jpg',\n 's6.jpg',\n 'd4.jpg',\n 'u3.jpg',\n 'z4.jpg',\n 'n5.jpg',\n 'o2.jpg',\n 'n2.jpg',\n 'n7.jpg',\n 'x3.jpg',\n 'f6.jpg',\n 'q4.jpg',\n 'l7.jpg',\n 'h3.jpg',\n 'g7.jpg',\n 'v3.jpg',\n 'a4.jpg',\n 'y1.jpg',\n 'm3.jpg',\n 't6.jpg',\n 'w1.jpg',\n 'r3.jpg',\n 'f3.jpg',\n 'i6.jpg',\n 'p3.jpg',\n 't1.jpg',\n 'u4.jpg',\n 'f8.jpg',\n 'c1.jpg',\n 'p6.jpg',\n 'd3.jpg',\n 'e3.jpg',\n 'o6.jpg',\n 'r4.jpg',\n 'h2.jpg',\n 'l1.jpg',\n 'z1.jpg',\n 'd2.jpg',\n 'o3.jpg',\n 's4.jpg',\n 'w5.jpg',\n 'k7.jpg',\n 'c5.jpg',\n 'a3.jpg',\n 'd5.jpg',\n 'd1.jpg',\n 'y2.jpg',\n 'e2.jpg',\n 'b1.jpg',\n 'j4.jpg',\n 'l3.jpg',\n 'p7.jpg',\n 'x1.jpg',\n 'r5.jpg',\n 'k2.jpg',\n 'h7.jpg',\n 'd6.jpg',\n 'q5.jpg',\n 'f7.jpg',\n 'n4.jpg',\n 'b4.jpg',\n 'a6.jpg',\n 'q1.jpg',\n 'y4.jpg',\n 't3.jpg',\n 'g3.jpg',\n 'g1.jpg',\n 'a7.jpg',\n 'c2.jpg',\n 'n3.jpg',\n 'm1.jpg',\n 'z5.jpg',\n 'r6.jpg',\n 't4.jpg',\n 'o5.jpg',\n 'm7.jpg',\n 'd7.jpg',\n 'e4.jpg',\n 'i1.jpg',\n 'g6.jpg',\n 's1.jpg',\n 'j5.jpg',\n 'f5.jpg',\n 'r2.jpg',\n 'i4.jpg',\n 'f2.jpg',\n 'n6.jpg',\n 'm4.jpg',\n 'k4.jpg',\n 'q3.jpg',\n 'c7.jpg',\n 'v5.jpg',\n 'k3.jpg',\n 't2.jpg',\n 'e7.jpg',\n 'q6.jpg',\n 'e6.jpg',\n 'v2.jpg',\n 'o1.jpg',\n 'p4.jpg',\n 'x2.jpg',\n 'k1.jpg',\n 'p5.jpg',\n 'p2.jpg',\n 'f1.jpg',\n 'a1.jpg',\n 'm5.jpg',\n 'k6.jpg',\n 'b7.jpg']"
                    },
                    "metadata": {}
                }
            ]
        },
        {
            "metadata": {},
            "cell_type": "code",
            "source": "import matplotlib.pyplot as plt\nimport matplotlib.image as mpimg\n'''\n    checking image data.\n'''\nimg = mpimg.imread('images/images/d1.jpg')\n\nplt.imshow(img, cmap='gray')",
            "execution_count": 27,
            "outputs": [
                {
                    "output_type": "execute_result",
                    "execution_count": 27,
                    "data": {
                        "text/plain": "<matplotlib.image.AxesImage at 0x7f69400aaeb8>"
                    },
                    "metadata": {}
                },
                {
                    "output_type": "display_data",
                    "data": {
                        "text/plain": "<Figure size 432x288 with 1 Axes>",
                        "image/png": "[encoded data removed]"
                    },
                    "metadata": {
                        "needs_background": "light"
                    }
                }
            ]
        },
        {
            "metadata": {},
            "cell_type": "code",
            "source": "\nimage_path = df[\"path\"].tolist()",
            "execution_count": 28,
            "outputs": []
        },
        {
            "metadata": {},
            "cell_type": "markdown",
            "source": "# Creating the model for project #"
        },
        {
            "metadata": {},
            "cell_type": "markdown",
            "source": "### importing required file to create the machine learing model ###"
        },
        {
            "metadata": {},
            "cell_type": "code",
            "source": "from tensorflow.keras.preprocessing import image as tf_img",
            "execution_count": 29,
            "outputs": []
        },
        {
            "metadata": {},
            "cell_type": "markdown",
            "source": "### Traing and testing the data ###"
        },
        {
            "metadata": {},
            "cell_type": "code",
            "source": "train_image = []\nfor image_name in image_path:\n    img = tf_img.load_img('images/images/'+image_name, target_size=(28,28,1), grayscale=True)\n    img = tf_img.img_to_array(img)\n    img = img/255 # Normalization\n    train_image.append(img)\nX = np.array(train_image)",
            "execution_count": 30,
            "outputs": [
                {
                    "output_type": "stream",
                    "text": "/opt/conda/envs/Python36/lib/python3.6/site-packages/keras_preprocessing/image.py:492: UserWarning: grayscale is deprecated. Please use color_mode = \"grayscale\"\n  warnings.warn('grayscale is deprecated. Please use '\n",
                    "name": "stderr"
                }
            ]
        },
        {
            "metadata": {},
            "cell_type": "code",
            "source": "y = df['label'].values",
            "execution_count": 47,
            "outputs": []
        },
        {
            "metadata": {},
            "cell_type": "code",
            "source": "X_train, X_test, y_train, y_test = train_test_split(X, y, random_state=42, test_size=0.2)",
            "execution_count": 48,
            "outputs": []
        },
        {
            "metadata": {},
            "cell_type": "code",
            "source": "model = Sequential()\nmodel.add(Conv2D(32, kernel_size=(3, 3),activation='relu',input_shape=(28,28,1)))\nmodel.add(Conv2D(64, (3, 3), activation='relu'))\nmodel.add(MaxPooling2D(pool_size=(2, 2)))\nmodel.add(Dropout(0.25))\nmodel.add(Flatten())\nmodel.add(Dense(128, activation='relu'))\nmodel.add(Dropout(0.5))\nmodel.add(Dense(26, activation='softmax'))",
            "execution_count": 49,
            "outputs": []
        },
        {
            "metadata": {},
            "cell_type": "code",
            "source": "model.compile(loss='sparse_categorical_crossentropy',optimizer='Adam',metrics=['accuracy'])",
            "execution_count": 50,
            "outputs": []
        },
        {
            "metadata": {
                "scrolled": true
            },
            "cell_type": "code",
            "source": "model.fit(X_train, y_train, epochs=10, validation_data=(X_test, y_test))",
            "execution_count": 51,
            "outputs": [
                {
                    "output_type": "stream",
                    "text": "Train on 133 samples, validate on 34 samples\nEpoch 1/10\n133/133 [==============================] - 4s 30ms/sample - loss: 3.2557 - acc: 0.0602 - val_loss: 3.2504 - val_acc: 0.0000e+00\nEpoch 2/10\n133/133 [==============================] - 1s 10ms/sample - loss: 3.2139 - acc: 0.0977 - val_loss: 3.2429 - val_acc: 0.0294\nEpoch 3/10\n133/133 [==============================] - 2s 12ms/sample - loss: 3.1190 - acc: 0.2331 - val_loss: 3.2503 - val_acc: 0.0294\nEpoch 4/10\n133/133 [==============================] - 1s 11ms/sample - loss: 2.9910 - acc: 0.2180 - val_loss: 3.2692 - val_acc: 0.0294\nEpoch 5/10\n133/133 [==============================] - 1s 10ms/sample - loss: 2.8974 - acc: 0.1955 - val_loss: 3.2041 - val_acc: 0.0294\nEpoch 6/10\n133/133 [==============================] - 2s 12ms/sample - loss: 2.6930 - acc: 0.2707 - val_loss: 3.2257 - val_acc: 0.0294\nEpoch 7/10\n133/133 [==============================] - 1s 10ms/sample - loss: 2.5505 - acc: 0.2857 - val_loss: 3.3005 - val_acc: 0.0882\nEpoch 8/10\n133/133 [==============================] - 2s 19ms/sample - loss: 2.3342 - acc: 0.4135 - val_loss: 3.3771 - val_acc: 0.0882\nEpoch 9/10\n133/133 [==============================] - 1s 11ms/sample - loss: 2.1206 - acc: 0.4436 - val_loss: 3.4703 - val_acc: 0.0882\nEpoch 10/10\n133/133 [==============================] - 1s 10ms/sample - loss: 1.9895 - acc: 0.4662 - val_loss: 3.6007 - val_acc: 0.0882\n",
                    "name": "stdout"
                },
                {
                    "output_type": "execute_result",
                    "execution_count": 51,
                    "data": {
                        "text/plain": "<tensorflow.python.keras.callbacks.History at 0x7f6747b9ffd0>"
                    },
                    "metadata": {}
                }
            ]
        },
        {
            "metadata": {},
            "cell_type": "code",
            "source": "img2 = tf_img.load_img('images/images/'+\"d7.jpg\", target_size=(28,28,1), grayscale=True)\nimg2 = tf_img.img_to_array(img2)\nimg2 = img2/255\ndata=model.predict_classes([[img2]])\n\nfor i in df['Index']:\n    if data[0]== i:\n        path=df.iloc[i,1]\n        img = mpimg.imread('images/images/'+path)\n        plt.imshow(img, cmap='gray')\n        \nprint(data[0])\n",
            "execution_count": 39,
            "outputs": [
                {
                    "output_type": "stream",
                    "text": "3\n",
                    "name": "stdout"
                },
                {
                    "output_type": "display_data",
                    "data": {
                        "text/plain": "<Figure size 432x288 with 1 Axes>",
                        "image/png": "[encoded data removed]"
                    },
                    "metadata": {
                        "needs_background": "light"
                    }
                }
            ]
        },
        {
            "metadata": {},
            "cell_type": "code",
            "source": "img2 = tf_img.load_img('images/images/'+\"d7.jpg\", target_size=(28,28,1), grayscale=True)\nimg2 = tf_img.img_to_array(img2)\nimg2 = img2/255\nprint(model.predict_classes([[img2]]))\n",
            "execution_count": 52,
            "outputs": [
                {
                    "output_type": "stream",
                    "text": "[1]\n",
                    "name": "stdout"
                }
            ]
        },
        {
            "metadata": {},
            "cell_type": "code",
            "source": "img = mpimg.imread('images/images/d7.jpg')\n\nplt.imshow(img, cmap='gray')",
            "execution_count": 53,
            "outputs": [
                {
                    "output_type": "execute_result",
                    "execution_count": 53,
                    "data": {
                        "text/plain": "<matplotlib.image.AxesImage at 0x7f6747b5eb00>"
                    },
                    "metadata": {}
                },
                {
                    "output_type": "display_data",
                    "data": {
                        "text/plain": "<Figure size 432x288 with 1 Axes>",
                        "image/png": "[encoded data removed]"
                    },
                    "metadata": {
                        "needs_background": "light"
                    }
                }
            ]
        },
        {
            "metadata": {},
            "cell_type": "code",
            "source": "",
            "execution_count": null,
            "outputs": []
        }
    ],
    "metadata": {
        "kernelspec": {
            "name": "python3",
            "display_name": "Python 3.6",
            "language": "python"
        },
        "language_info": {
            "name": "python",
            "version": "3.6.9",
            "mimetype": "text/x-python",
            "codemirror_mode": {
                "name": "ipython",
                "version": 3
            },
            "pygments_lexer": "ipython3",
            "nbconvert_exporter": "python",
            "file_extension": ".py"
        }
    },
    "nbformat": 4,
    "nbformat_minor": 2
}