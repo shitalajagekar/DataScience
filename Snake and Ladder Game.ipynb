{
    "nbformat_minor": 1, 
    "cells": [
        {
            "source": "\n\nimport random \n\nsnake={}\nladder={}\n\nplayer1=input(\"Enter the first player name :\")\nplayer2=input(\"Enter the second player name :\")\n\nscore1=0\nscore2=0\n\nwhile (1):\n    r= random.randint(1,6)\n    score1=score1+r\n    print(\"%s score is %d :\"%(player1,score1))\n\n    \n    r2=random.randint(1,6)\n    score2=score2+r2\n    print(\"%s score is %d :\"%(player2, score2))\n\n    s=random.randint(1,100)\n    s2=random.randint(1,25)\n    snake.update({s:s-s2})\n    print(\"snake \",snake)\n\n    l=random.randint(1,100)\n    l2=random.randint(1,25)\n    ladder.update({l:l+l2})\n    print(\"ladder \",ladder)\n\n    try:\n        if(score1 in snake.keys()):\n            score1=score1-snake[score1]\n            print(\"%s got snake and current score is  %d \"%(player1,score1))\n    except:\n        print(\"score goes wrong\")\n\n    if(score1 in ladder.keys()):\n        score1=score1+ladder[score1]\n        print(\"%s got ladder and current score is %d \"%(player1,score1))\n\n    try:\n        if(score2 in snake.keys()):\n            score2=score2-snake[score2]\n            print(\"%s got snake and current score is %d \"%(player2,score2))\n    except:\n        print(\"score goes wrong\")\n\n    if(score2 in ladder.keys()):\n        score2=score2+ladder[score2]\n        print(\"%s got ladder and current score is %d\"%(player2,score2))\n\n\n    if(score1>100):\n        print(\"player1 : %s is won\"%( player1))\n        break\n    if(score2>100):\n        print(\"player2 : %s is won\"%( player2))\n        break\n\n    \n\n", 
            "cell_type": "code", 
            "metadata": {}, 
            "outputs": [
                {
                    "output_type": "stream", 
                    "name": "stdout", 
                    "text": "Enter the first player name :shital\nEnter the second player name :bhairavi\nshital score is 2 :\nbhairavi score is 3 :\nsnake  {24: 13}\nladder  {46: 51}\nshital score is 7 :\nbhairavi score is 8 :\nsnake  {24: 13, 1: -9}\nladder  {81: 105, 46: 51}\nshital score is 13 :\nbhairavi score is 9 :\nsnake  {24: 13, 1: -9, 54: 37}\nladder  {40: 42, 81: 105, 46: 51}\nshital score is 19 :\nbhairavi score is 10 :\nsnake  {24: 13, 1: -9, 28: 16, 54: 37}\nladder  {40: 42, 81: 105, 28: 47, 46: 51}\nshital score is 24 :\nbhairavi score is 11 :\nsnake  {24: 13, 1: -9, 66: 41, 28: 16, 54: 37}\nladder  {40: 42, 81: 105, 66: 80, 28: 47, 46: 51}\nshital got snake and current score is  11 \nshital score is 12 :\nbhairavi score is 17 :\nsnake  {1: -9, 66: 41, 54: 37, 24: 13, 43: 28, 28: 16}\nladder  {81: 105, 66: 80, 40: 42, 28: 47, 18: 26, 46: 51}\nshital score is 16 :\nbhairavi score is 22 :\nsnake  {1: -19, 66: 41, 54: 37, 24: 13, 43: 28, 28: 16}\nladder  {81: 105, 66: 80, 40: 42, 58: 75, 28: 47, 18: 26, 46: 51}\nshital score is 20 :\nbhairavi score is 23 :\nsnake  {1: -19, 66: 41, 54: 37, 24: 13, 43: 28, 28: 16, 15: 12}\nladder  {81: 105, 66: 80, 40: 42, 58: 75, 28: 47, 18: 26, 46: 51, 77: 91}\nshital score is 22 :\nbhairavi score is 26 :\nsnake  {1: -19, 66: 41, 68: 58, 54: 37, 24: 13, 43: 28, 28: 16, 15: 12}\nladder  {81: 105, 66: 80, 40: 42, 60: 62, 58: 75, 28: 47, 18: 26, 46: 51, 77: 91}\nshital score is 24 :\nbhairavi score is 32 :\nsnake  {1: -19, 66: 41, 68: 58, 54: 37, 24: 13, 44: 24, 43: 28, 28: 16, 15: 12}\nladder  {81: 105, 66: 80, 72: 93, 40: 42, 60: 62, 58: 75, 28: 47, 18: 26, 46: 51, 77: 91}\nshital got snake and current score is  11 \nshital score is 14 :\nbhairavi score is 37 :\nsnake  {1: -19, 66: 41, 68: 58, 54: 37, 71: 51, 24: 13, 44: 24, 43: 28, 28: 16, 15: 12}\nladder  {81: 105, 66: 80, 90: 110, 72: 93, 40: 42, 60: 62, 58: 75, 28: 47, 18: 26, 46: 51, 77: 91}\nshital score is 17 :\nbhairavi score is 41 :\nsnake  {1: -19, 66: 41, 68: 58, 54: 37, 71: 51, 24: 13, 44: 24, 43: 28, 28: 16, 39: 30, 15: 12}\nladder  {66: 80, 38: 61, 72: 93, 28: 47, 77: 91, 46: 51, 81: 105, 18: 26, 40: 42, 90: 110, 60: 62, 58: 75}\nshital score is 18 :\nbhairavi score is 46 :\nsnake  {1: -19, 66: 41, 68: 58, 38: 33, 71: 51, 43: 28, 44: 24, 15: 12, 54: 37, 24: 13, 39: 30, 28: 16}\nladder  {66: 80, 38: 61, 72: 93, 28: 47, 77: 91, 46: 51, 81: 105, 18: 26, 41: 42, 40: 42, 90: 110, 60: 62, 58: 75}\nshital got ladder and current score is 44 \nbhairavi got ladder and current score is 97\nshital score is 47 :\nbhairavi score is 98 :\nsnake  {1: -19, 66: 41, 68: 58, 38: 33, 71: 51, 76: 58, 43: 28, 44: 24, 15: 12, 54: 37, 24: 13, 39: 30, 28: 16}\nladder  {66: 80, 38: 61, 72: 93, 28: 47, 77: 91, 46: 51, 81: 105, 18: 26, 41: 42, 40: 42, 90: 110, 60: 62, 58: 75, 95: 112}\nshital score is 52 :\nbhairavi score is 99 :\nsnake  {1: -19, 66: 41, 68: 58, 38: 33, 71: 51, 76: 58, 43: 28, 44: 24, 15: 12, 51: 42, 54: 37, 24: 13, 39: 30, 28: 16}\nladder  {66: 80, 38: 61, 72: 93, 28: 47, 77: 91, 46: 51, 15: 36, 81: 105, 18: 26, 41: 42, 40: 42, 90: 110, 60: 62, 58: 75, 95: 112}\nshital score is 53 :\nbhairavi score is 105 :\nsnake  {1: -19, 66: 41, 68: 58, 38: 33, 71: 51, 76: 58, 43: 28, 44: 24, 15: 12, 51: 42, 54: 37, 24: 13, 39: 30, 59: 54, 28: 16}\nladder  {66: 80, 6: 27, 38: 61, 72: 93, 28: 47, 77: 91, 46: 51, 15: 36, 81: 105, 18: 26, 41: 42, 40: 42, 90: 110, 60: 62, 58: 75, 95: 112}\nplayer2 : bhairavi is won\n"
                }
            ], 
            "execution_count": 1
        }, 
        {
            "source": "", 
            "cell_type": "code", 
            "metadata": {}, 
            "outputs": [], 
            "execution_count": null
        }
    ], 
    "metadata": {
        "kernelspec": {
            "display_name": "Python 3.5", 
            "name": "python3", 
            "language": "python"
        }, 
        "language_info": {
            "mimetype": "text/x-python", 
            "nbconvert_exporter": "python", 
            "version": "3.5.5", 
            "name": "python", 
            "pygments_lexer": "ipython3", 
            "file_extension": ".py", 
            "codemirror_mode": {
                "version": 3, 
                "name": "ipython"
            }
        }
    }, 
    "nbformat": 4
}