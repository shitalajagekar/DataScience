{
    "cells": [
        {
            "metadata": {},
            "cell_type": "code",
            "source": "import pandas as pd",
            "execution_count": 1,
            "outputs": []
        },
        {
            "metadata": {},
            "cell_type": "code",
            "source": "!wget -O data1.zip https://github.com/shitalajagekar/DataScience/blob/master/20191101.zip\n  \n# reading file from github",
            "execution_count": 10,
            "outputs": [
                {
                    "output_type": "stream",
                    "text": "--2020-03-16 09:08:51--  https://github.com/shitalajagekar/DataScience/blob/master/20191101.zip\nResolving github.com (github.com)... 140.82.113.3\nConnecting to github.com (github.com)|140.82.113.3|:443... connected.\nHTTP request sent, awaiting response... 200 OK\nLength: unspecified [text/html]\nSaving to: \u2018data1.zip\u2019\n\n    [ <=>                                   ] 64,335      --.-K/s   in 0.07s   \n\n2020-03-16 09:08:51 (871 KB/s) - \u2018data1.zip\u2019 saved [64335]\n\n",
                    "name": "stdout"
                }
            ]
        },
        {
            "metadata": {},
            "cell_type": "code",
            "source": "from zipfile import ZipFile\n\ndata = ZipFile('data1.zip')\ndata.extractall('data1')# extracting all files into data",
            "execution_count": null,
            "outputs": []
        },
        {
            "metadata": {},
            "cell_type": "code",
            "source": "import os",
            "execution_count": 12,
            "outputs": []
        },
        {
            "metadata": {},
            "cell_type": "code",
            "source": "path = '\\20191101\\20191101\\' # path of all files\ntable_list = [] # variable to store file name\n\ncsv_out='20191101.csv' # creating new csv file\n\n \n    # storing value into table_list variable that is file name\nfor filename in os.listdir(path):\n    if filename.endswith('.csv'):\n        table_list.append(pd.read_csv(filename,sep=\"|\"))\n\ncol_list=[\"Symbol\",\"Expiration\",\"OptionType\"]   # creating the new header   \ndf3=read_csv(\"csv_out\",names=col_list)\n\n# code to merge the files\nfor filename in os.listdir(path):\n    if filename.endswith('.csv'):\n        with open(filename, 'rb') as f:\n            with open(csv_out, 'wb') as f2:\n                for filename in table_list:\n                    if filename!= \"\":   #extrcting the value from filename variable storing into var1,var2,var3\n                        var1=filename[0:3]\n                        var2=filename[4:13]\n                        var3=filename[14:]\n                f2.write(var1,var2,var3)\n                f2 = csv.writer(f, delimiter=',')\n\n\n",
            "execution_count": null,
            "outputs": []
        },
        {
            "metadata": {},
            "cell_type": "code",
            "source": "df4=pd.read_csv('20191101.csv')\ndf4.head()",
            "execution_count": null,
            "outputs": []
        },
        {
            "metadata": {},
            "cell_type": "code",
            "source": "",
            "execution_count": null,
            "outputs": []
        }
    ],
    "metadata": {
        "kernelspec": {
            "name": "python3",
            "display_name": "Python 3.6",
            "language": "python"
        },
        "language_info": {
            "name": "python",
            "version": "3.6.9",
            "mimetype": "text/x-python",
            "codemirror_mode": {
                "name": "ipython",
                "version": 3
            },
            "pygments_lexer": "ipython3",
            "nbconvert_exporter": "python",
            "file_extension": ".py"
        }
    },
    "nbformat": 4,
    "nbformat_minor": 1
}