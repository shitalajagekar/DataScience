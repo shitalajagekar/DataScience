{
 "cells": [
  {
   "cell_type": "code",
   "execution_count": 18,
   "metadata": {},
   "outputs": [],
   "source": [
    "import keras\n",
    "import tensorflow as tf\n",
    "from tensorflow.keras.models import Sequential\n",
    "from tensorflow.keras.layers import Dense, Dropout, Flatten\n",
    "from tensorflow.keras.layers import Conv2D, MaxPooling2D\n",
    "from tensorflow.keras.utils import to_categorical\n",
    "from tensorflow.keras.preprocessing import image\n",
    "import numpy as np\n",
    "import pandas as pd\n",
    "import matplotlib.pyplot as plt\n",
    "from sklearn.model_selection import train_test_split\n",
    "from tensorflow.keras.utils import to_categorical\n",
    "from tqdm import tqdm"
   ]
  },
  {
   "cell_type": "code",
   "execution_count": 28,
   "metadata": {},
   "outputs": [],
   "source": [
    "import pandas as pd\n",
    "df = pd.read_csv(\"data.csv\")"
   ]
  },
  {
   "cell_type": "code",
   "execution_count": 29,
   "metadata": {},
   "outputs": [
    {
     "data": {
      "text/html": [
       "<div>\n",
       "<style scoped>\n",
       "    .dataframe tbody tr th:only-of-type {\n",
       "        vertical-align: middle;\n",
       "    }\n",
       "\n",
       "    .dataframe tbody tr th {\n",
       "        vertical-align: top;\n",
       "    }\n",
       "\n",
       "    .dataframe thead th {\n",
       "        text-align: right;\n",
       "    }\n",
       "</style>\n",
       "<table border=\"1\" class=\"dataframe\">\n",
       "  <thead>\n",
       "    <tr style=\"text-align: right;\">\n",
       "      <th></th>\n",
       "      <th>label</th>\n",
       "      <th>path</th>\n",
       "    </tr>\n",
       "  </thead>\n",
       "  <tbody>\n",
       "    <tr>\n",
       "      <th>0</th>\n",
       "      <td>0</td>\n",
       "      <td>a1.jpg</td>\n",
       "    </tr>\n",
       "    <tr>\n",
       "      <th>1</th>\n",
       "      <td>0</td>\n",
       "      <td>a2.jpg</td>\n",
       "    </tr>\n",
       "    <tr>\n",
       "      <th>2</th>\n",
       "      <td>0</td>\n",
       "      <td>a3.jpg</td>\n",
       "    </tr>\n",
       "    <tr>\n",
       "      <th>3</th>\n",
       "      <td>0</td>\n",
       "      <td>a4.jpg</td>\n",
       "    </tr>\n",
       "    <tr>\n",
       "      <th>4</th>\n",
       "      <td>0</td>\n",
       "      <td>a5.jpg</td>\n",
       "    </tr>\n",
       "  </tbody>\n",
       "</table>\n",
       "</div>"
      ],
      "text/plain": [
       "   label    path\n",
       "0      0  a1.jpg\n",
       "1      0  a2.jpg\n",
       "2      0  a3.jpg\n",
       "3      0  a4.jpg\n",
       "4      0  a5.jpg"
      ]
     },
     "execution_count": 29,
     "metadata": {},
     "output_type": "execute_result"
    }
   ],
   "source": [
    "df.head()"
   ]
  },
  {
   "cell_type": "code",
   "execution_count": 30,
   "metadata": {},
   "outputs": [
    {
     "data": {
      "text/plain": [
       "<matplotlib.image.AxesImage at 0x216b406a1d0>"
      ]
     },
     "execution_count": 30,
     "metadata": {},
     "output_type": "execute_result"
    },
    {
     "data": {
      "image/png": "[encoded data removed]",
      "text/plain": [
       "<Figure size 432x288 with 1 Axes>"
      ]
     },
     "metadata": {
      "needs_background": "light"
     },
     "output_type": "display_data"
    }
   ],
   "source": [
    "import matplotlib.pyplot as plt\n",
    "import matplotlib.image as mpimg\n",
    "\n",
    "img = mpimg.imread('images/a1.jpg')\n",
    "\n",
    "plt.imshow(img, cmap='gray')"
   ]
  },
  {
   "cell_type": "code",
   "execution_count": 31,
   "metadata": {},
   "outputs": [],
   "source": [
    "image_path = df[\"path\"].tolist()"
   ]
  },
  {
   "cell_type": "code",
   "execution_count": 32,
   "metadata": {},
   "outputs": [],
   "source": [
    "train_image = []\n",
    "for image_name in image_path:\n",
    "    img = image.load_img('images/'+image_name, target_size=(28,28,1), grayscale=True)\n",
    "    img = image.img_to_array(img)\n",
    "    img = img/255 # Normalization\n",
    "    train_image.append(img)\n",
    "X = np.array(train_image)"
   ]
  },
  {
   "cell_type": "code",
   "execution_count": 46,
   "metadata": {},
   "outputs": [],
   "source": [
    "y = df['label'].values"
   ]
  },
  {
   "cell_type": "code",
   "execution_count": 54,
   "metadata": {},
   "outputs": [],
   "source": [
    "X_train, X_test, y_train, y_test = train_test_split(X, y, random_state=42, test_size=0.2)"
   ]
  },
  {
   "cell_type": "code",
   "execution_count": 58,
   "metadata": {},
   "outputs": [],
   "source": [
    "model = Sequential()\n",
    "model.add(Conv2D(32, kernel_size=(3, 3),activation='relu',input_shape=(28,28,1)))\n",
    "model.add(Conv2D(64, (3, 3), activation='relu'))\n",
    "model.add(MaxPooling2D(pool_size=(2, 2)))\n",
    "model.add(Dropout(0.25))\n",
    "model.add(Flatten())\n",
    "model.add(Dense(128, activation='relu'))\n",
    "model.add(Dropout(0.5))\n",
    "model.add(Dense(26, activation='softmax'))"
   ]
  },
  {
   "cell_type": "code",
   "execution_count": 59,
   "metadata": {},
   "outputs": [],
   "source": [
    "model.compile(loss='sparse_categorical_crossentropy',optimizer='Adam',metrics=['accuracy'])"
   ]
  },
  {
   "cell_type": "code",
   "execution_count": 96,
   "metadata": {},
   "outputs": [
    {
     "name": "stdout",
     "output_type": "stream",
     "text": [
      "Train on 133 samples, validate on 34 samples\n",
      "Epoch 1/30\n",
      "133/133 [==============================] - 0s 3ms/sample - loss: 0.3525 - accuracy: 0.8947 - val_loss: 6.9196 - val_accuracy: 0.1176\n",
      "Epoch 2/30\n",
      "133/133 [==============================] - 0s 3ms/sample - loss: 0.3549 - accuracy: 0.9023 - val_loss: 6.9394 - val_accuracy: 0.1176\n",
      "Epoch 3/30\n",
      "133/133 [==============================] - 0s 3ms/sample - loss: 0.2624 - accuracy: 0.9624 - val_loss: 6.9548 - val_accuracy: 0.1471\n",
      "Epoch 4/30\n",
      "133/133 [==============================] - 0s 3ms/sample - loss: 0.3070 - accuracy: 0.9248 - val_loss: 6.9882 - val_accuracy: 0.1471\n",
      "Epoch 5/30\n",
      "133/133 [==============================] - 0s 3ms/sample - loss: 0.3275 - accuracy: 0.9248 - val_loss: 7.0202 - val_accuracy: 0.1176\n",
      "Epoch 6/30\n",
      "133/133 [==============================] - 0s 3ms/sample - loss: 0.1951 - accuracy: 0.9474 - val_loss: 7.1076 - val_accuracy: 0.1176\n",
      "Epoch 7/30\n",
      "133/133 [==============================] - 0s 3ms/sample - loss: 0.2095 - accuracy: 0.9549 - val_loss: 7.2585 - val_accuracy: 0.0882\n",
      "Epoch 8/30\n",
      "133/133 [==============================] - 0s 3ms/sample - loss: 0.1496 - accuracy: 0.9774 - val_loss: 7.3438 - val_accuracy: 0.0882\n",
      "Epoch 9/30\n",
      "133/133 [==============================] - 0s 3ms/sample - loss: 0.1425 - accuracy: 0.9549 - val_loss: 7.5438 - val_accuracy: 0.0882\n",
      "Epoch 10/30\n",
      "133/133 [==============================] - 0s 3ms/sample - loss: 0.2128 - accuracy: 0.9474 - val_loss: 7.7910 - val_accuracy: 0.0882\n",
      "Epoch 11/30\n",
      "133/133 [==============================] - 0s 3ms/sample - loss: 0.2538 - accuracy: 0.9323 - val_loss: 7.9430 - val_accuracy: 0.0882\n",
      "Epoch 12/30\n",
      "133/133 [==============================] - 0s 3ms/sample - loss: 0.2246 - accuracy: 0.9248 - val_loss: 8.0143 - val_accuracy: 0.0882\n",
      "Epoch 13/30\n",
      "133/133 [==============================] - 0s 3ms/sample - loss: 0.2179 - accuracy: 0.9323 - val_loss: 7.9137 - val_accuracy: 0.0882\n",
      "Epoch 14/30\n",
      "133/133 [==============================] - 0s 3ms/sample - loss: 0.3110 - accuracy: 0.9173 - val_loss: 7.6443 - val_accuracy: 0.1176\n",
      "Epoch 15/30\n",
      "133/133 [==============================] - 0s 3ms/sample - loss: 0.1596 - accuracy: 0.9850 - val_loss: 7.5062 - val_accuracy: 0.1176\n",
      "Epoch 16/30\n",
      "133/133 [==============================] - 0s 3ms/sample - loss: 0.2523 - accuracy: 0.9474 - val_loss: 7.5626 - val_accuracy: 0.1176\n",
      "Epoch 17/30\n",
      "133/133 [==============================] - 0s 3ms/sample - loss: 0.1265 - accuracy: 0.9774 - val_loss: 7.7333 - val_accuracy: 0.1176\n",
      "Epoch 18/30\n",
      "133/133 [==============================] - 0s 3ms/sample - loss: 0.1106 - accuracy: 0.9549 - val_loss: 7.9048 - val_accuracy: 0.1176\n",
      "Epoch 19/30\n",
      "133/133 [==============================] - 0s 3ms/sample - loss: 0.1537 - accuracy: 0.9774 - val_loss: 8.0196 - val_accuracy: 0.1176\n",
      "Epoch 20/30\n",
      "133/133 [==============================] - 0s 3ms/sample - loss: 0.1184 - accuracy: 0.9925 - val_loss: 8.1226 - val_accuracy: 0.1176\n",
      "Epoch 21/30\n",
      "133/133 [==============================] - 0s 3ms/sample - loss: 0.1111 - accuracy: 0.9624 - val_loss: 8.0421 - val_accuracy: 0.1176\n",
      "Epoch 22/30\n",
      "133/133 [==============================] - 0s 3ms/sample - loss: 0.1616 - accuracy: 0.9624 - val_loss: 8.0436 - val_accuracy: 0.1176\n",
      "Epoch 23/30\n",
      "133/133 [==============================] - 0s 3ms/sample - loss: 0.0930 - accuracy: 0.9850 - val_loss: 8.3221 - val_accuracy: 0.1176\n",
      "Epoch 24/30\n",
      "133/133 [==============================] - 0s 3ms/sample - loss: 0.1528 - accuracy: 0.9549 - val_loss: 8.3837 - val_accuracy: 0.1176\n",
      "Epoch 25/30\n",
      "133/133 [==============================] - 0s 3ms/sample - loss: 0.1089 - accuracy: 0.9925 - val_loss: 8.6471 - val_accuracy: 0.1176\n",
      "Epoch 26/30\n",
      "133/133 [==============================] - 0s 3ms/sample - loss: 0.0584 - accuracy: 1.0000 - val_loss: 8.9530 - val_accuracy: 0.1176\n",
      "Epoch 27/30\n",
      "133/133 [==============================] - 0s 3ms/sample - loss: 0.0646 - accuracy: 0.9850 - val_loss: 9.2302 - val_accuracy: 0.1176\n",
      "Epoch 28/30\n",
      "133/133 [==============================] - 0s 3ms/sample - loss: 0.1053 - accuracy: 0.9699 - val_loss: 9.4881 - val_accuracy: 0.1176\n",
      "Epoch 29/30\n",
      "133/133 [==============================] - 0s 3ms/sample - loss: 0.0887 - accuracy: 0.9624 - val_loss: 9.5209 - val_accuracy: 0.1176\n",
      "Epoch 30/30\n",
      "133/133 [==============================] - 0s 3ms/sample - loss: 0.1206 - accuracy: 0.9699 - val_loss: 9.3190 - val_accuracy: 0.1176\n"
     ]
    },
    {
     "data": {
      "text/plain": [
       "<tensorflow.python.keras.callbacks.History at 0x216b5c75908>"
      ]
     },
     "execution_count": 96,
     "metadata": {},
     "output_type": "execute_result"
    }
   ],
   "source": [
    "model.fit(X_train, y_train, epochs=30, validation_data=(X_test, y_test))"
   ]
  },
  {
   "cell_type": "code",
   "execution_count": 103,
   "metadata": {},
   "outputs": [
    {
     "data": {
      "text/plain": [
       "array([3], dtype=int64)"
      ]
     },
     "execution_count": 103,
     "metadata": {},
     "output_type": "execute_result"
    }
   ],
   "source": [
    "img = image.load_img('images/'+\"d7.jpg\", target_size=(28,28,1), grayscale=True)\n",
    "img = image.img_to_array(img)\n",
    "img = img/255\n",
    "model.predict_classes([[img]])"
   ]
  },
  {
   "cell_type": "code",
   "execution_count": null,
   "metadata": {},
   "outputs": [],
   "source": []
  }
 ],
 "metadata": {
  "kernelspec": {
   "display_name": "Python 3",
   "language": "python",
   "name": "python3"
  },
  "language_info": {
   "codemirror_mode": {
    "name": "ipython",
    "version": 3
   },
   "file_extension": ".py",
   "mimetype": "text/x-python",
   "name": "python",
   "nbconvert_exporter": "python",
   "pygments_lexer": "ipython3",
   "version": "3.7.3"
  }
 },
 "nbformat": 4,
 "nbformat_minor": 2
}
